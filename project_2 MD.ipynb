{
 "cells": [
  {
   "cell_type": "markdown",
   "id": "4eea875d",
   "metadata": {},
   "source": [
    "# Importing Libraries"
   ]
  },
  {
   "cell_type": "code",
   "execution_count": 126,
   "id": "0e62744f",
   "metadata": {
    "ExecuteTime": {
     "end_time": "2023-04-17T04:20:35.712044Z",
     "start_time": "2023-04-17T04:20:35.703044Z"
    }
   },
   "outputs": [],
   "source": [
    "import pandas as pd\n",
    "import numpy as np\n",
    "import seaborn as sns \n",
    "%matplotlib inline\n",
    "import matplotlib\n",
    "import matplotlib.pyplot as plt\n",
    "\n",
    "from sklearn.preprocessing import OneHotEncoder\n",
    "from wordcloud import WordCloud \n",
    "import warnings\n",
    "import re \n",
    "import string \n"
   ]
  },
  {
   "cell_type": "markdown",
   "id": "4d5975c1",
   "metadata": {},
   "source": [
    "# Loading  the  dataset  "
   ]
  },
  {
   "cell_type": "code",
   "execution_count": 127,
   "id": "d247e1e3",
   "metadata": {
    "ExecuteTime": {
     "end_time": "2023-04-17T04:20:35.743240Z",
     "start_time": "2023-04-17T04:20:35.714044Z"
    }
   },
   "outputs": [],
   "source": [
    "link=pd.read_csv(\"linkedin_data 2023-03-31_final1.csv\")     "
   ]
  },
  {
   "cell_type": "markdown",
   "id": "7c866375",
   "metadata": {},
   "source": [
    "# Exploratory Data Analysis(EDA)"
   ]
  },
  {
   "cell_type": "markdown",
   "id": "645b2dd5",
   "metadata": {},
   "source": [
    "##  Basic Data Exploration"
   ]
  },
  {
   "cell_type": "markdown",
   "id": "71536ae0",
   "metadata": {
    "ExecuteTime": {
     "end_time": "2023-04-14T07:56:40.159061Z",
     "start_time": "2023-04-14T07:56:40.150074Z"
    }
   },
   "source": [
    "In this step, we will perform the below operations to check what the data set comprises of. We will check the below things:\n",
    "\n",
    "– head of the dataset – the shape of the dataset – info of the dataset"
   ]
  },
  {
   "cell_type": "code",
   "execution_count": 128,
   "id": "6e1ccc7d",
   "metadata": {
    "ExecuteTime": {
     "end_time": "2023-04-17T04:20:35.774239Z",
     "start_time": "2023-04-17T04:20:35.745403Z"
    }
   },
   "outputs": [
    {
     "data": {
      "text/html": [
       "<div>\n",
       "<style scoped>\n",
       "    .dataframe tbody tr th:only-of-type {\n",
       "        vertical-align: middle;\n",
       "    }\n",
       "\n",
       "    .dataframe tbody tr th {\n",
       "        vertical-align: top;\n",
       "    }\n",
       "\n",
       "    .dataframe thead th {\n",
       "        text-align: right;\n",
       "    }\n",
       "</style>\n",
       "<table border=\"1\" class=\"dataframe\">\n",
       "  <thead>\n",
       "    <tr style=\"text-align: right;\">\n",
       "      <th></th>\n",
       "      <th>Date</th>\n",
       "      <th>Job_Name</th>\n",
       "      <th>Company</th>\n",
       "      <th>Loaction</th>\n",
       "      <th>Job_type</th>\n",
       "      <th>Employees</th>\n",
       "      <th>Followers</th>\n",
       "      <th>Applicant</th>\n",
       "      <th>Industry</th>\n",
       "      <th>Invovlement</th>\n",
       "    </tr>\n",
       "  </thead>\n",
       "  <tbody>\n",
       "    <tr>\n",
       "      <th>0</th>\n",
       "      <td>3/31/2023</td>\n",
       "      <td>Client Technology: Platform Engineering, Senio...</td>\n",
       "      <td>EY</td>\n",
       "      <td>Trivandrum, Kerala, India</td>\n",
       "      <td>On-site</td>\n",
       "      <td>10,001+ employees</td>\n",
       "      <td>7,366,377 followers</td>\n",
       "      <td>9 applicants</td>\n",
       "      <td>Information Technology &amp; Services</td>\n",
       "      <td>Full-time · Mid-Senior level</td>\n",
       "    </tr>\n",
       "    <tr>\n",
       "      <th>1</th>\n",
       "      <td>3/31/2023</td>\n",
       "      <td>Associate - Global Intelligence (Open Source C...</td>\n",
       "      <td>JPMorgan Chase &amp; Co.</td>\n",
       "      <td>Mumbai, Maharashtra, India</td>\n",
       "      <td>On-site</td>\n",
       "      <td>10,001+ employees</td>\n",
       "      <td>3,791,093 followers</td>\n",
       "      <td>10 applicants</td>\n",
       "      <td>Financial Services</td>\n",
       "      <td>Full-time</td>\n",
       "    </tr>\n",
       "    <tr>\n",
       "      <th>2</th>\n",
       "      <td>3/31/2023</td>\n",
       "      <td>MTS Software Development Eng.</td>\n",
       "      <td>AMD</td>\n",
       "      <td>Bengaluru, Karnataka, India</td>\n",
       "      <td>On-site</td>\n",
       "      <td>10,001+ employees</td>\n",
       "      <td>1,068,681 followers</td>\n",
       "      <td>41 applicants</td>\n",
       "      <td>Semiconductors</td>\n",
       "      <td>Full-time · Mid-Senior level</td>\n",
       "    </tr>\n",
       "    <tr>\n",
       "      <th>3</th>\n",
       "      <td>3/31/2023</td>\n",
       "      <td>Tech Lead - Wifi Development</td>\n",
       "      <td>VVDN Technologies</td>\n",
       "      <td>Chennai, Tamil Nadu, India</td>\n",
       "      <td>On-site</td>\n",
       "      <td>10,001+ employees</td>\n",
       "      <td>62,010 followers</td>\n",
       "      <td>13 applicants</td>\n",
       "      <td>Information Technology &amp; Services</td>\n",
       "      <td>Full-time · Mid-Senior level</td>\n",
       "    </tr>\n",
       "    <tr>\n",
       "      <th>4</th>\n",
       "      <td>3/31/2023</td>\n",
       "      <td>Senior Application Specialist</td>\n",
       "      <td>Leica Biosystems</td>\n",
       "      <td>Mumbai, Maharashtra, India</td>\n",
       "      <td>On-site</td>\n",
       "      <td>1,001-5,000 employees</td>\n",
       "      <td>86,924 followers</td>\n",
       "      <td>78 applicants</td>\n",
       "      <td>Medical Device</td>\n",
       "      <td>Full-time</td>\n",
       "    </tr>\n",
       "    <tr>\n",
       "      <th>...</th>\n",
       "      <td>...</td>\n",
       "      <td>...</td>\n",
       "      <td>...</td>\n",
       "      <td>...</td>\n",
       "      <td>...</td>\n",
       "      <td>...</td>\n",
       "      <td>...</td>\n",
       "      <td>...</td>\n",
       "      <td>...</td>\n",
       "      <td>...</td>\n",
       "    </tr>\n",
       "    <tr>\n",
       "      <th>1122</th>\n",
       "      <td>3/31/2023</td>\n",
       "      <td>AM- Analytics-ANA007048</td>\n",
       "      <td>Genpact</td>\n",
       "      <td>Bengaluru, Karnataka, India</td>\n",
       "      <td>On-site</td>\n",
       "      <td>10,001+ employees</td>\n",
       "      <td>2,639,117 followers</td>\n",
       "      <td>58 applicants</td>\n",
       "      <td>Information Technology &amp; Services</td>\n",
       "      <td>Full-time · Associate</td>\n",
       "    </tr>\n",
       "    <tr>\n",
       "      <th>1123</th>\n",
       "      <td>3/31/2023</td>\n",
       "      <td>Senior Data &amp; API Consultant</td>\n",
       "      <td>Pluralsight</td>\n",
       "      <td>Bengaluru, Karnataka, India</td>\n",
       "      <td>Hybrid</td>\n",
       "      <td>1,001-5,000 employees</td>\n",
       "      <td>175,876 followers</td>\n",
       "      <td>3 applicants</td>\n",
       "      <td>Computer Software</td>\n",
       "      <td>Full-time · Mid-Senior level</td>\n",
       "    </tr>\n",
       "    <tr>\n",
       "      <th>1124</th>\n",
       "      <td>3/31/2023</td>\n",
       "      <td>Staff</td>\n",
       "      <td>Bunge</td>\n",
       "      <td>Andhra Pradesh, India</td>\n",
       "      <td>On-site</td>\n",
       "      <td>10,001+ employees</td>\n",
       "      <td>1,213,984 followers</td>\n",
       "      <td>66 applicants</td>\n",
       "      <td>Food Production</td>\n",
       "      <td>Full-time · Associate</td>\n",
       "    </tr>\n",
       "    <tr>\n",
       "      <th>1125</th>\n",
       "      <td>3/31/2023</td>\n",
       "      <td>Software Performance Analyst (Cyber Security)</td>\n",
       "      <td>BlackBerry</td>\n",
       "      <td>Uttar Pradesh, India</td>\n",
       "      <td>On-site</td>\n",
       "      <td>5,001-10,000 employees</td>\n",
       "      <td>306,410 followers</td>\n",
       "      <td>65 applicants</td>\n",
       "      <td>Computer Software</td>\n",
       "      <td>Full-time</td>\n",
       "    </tr>\n",
       "    <tr>\n",
       "      <th>1126</th>\n",
       "      <td>3/31/2023</td>\n",
       "      <td>Team Lead-Big Data</td>\n",
       "      <td>Infogain</td>\n",
       "      <td>Gurugram, Haryana, India</td>\n",
       "      <td>On-site</td>\n",
       "      <td>5,001-10,000 employees</td>\n",
       "      <td>209,419 followers</td>\n",
       "      <td>40 applicants</td>\n",
       "      <td>Information Technology &amp; Services</td>\n",
       "      <td>Full-time</td>\n",
       "    </tr>\n",
       "  </tbody>\n",
       "</table>\n",
       "<p>1127 rows × 10 columns</p>\n",
       "</div>"
      ],
      "text/plain": [
       "           Date                                           Job_Name  \\\n",
       "0     3/31/2023  Client Technology: Platform Engineering, Senio...   \n",
       "1     3/31/2023  Associate - Global Intelligence (Open Source C...   \n",
       "2     3/31/2023                      MTS Software Development Eng.   \n",
       "3     3/31/2023                       Tech Lead - Wifi Development   \n",
       "4     3/31/2023                      Senior Application Specialist   \n",
       "...         ...                                                ...   \n",
       "1122  3/31/2023                            AM- Analytics-ANA007048   \n",
       "1123  3/31/2023                       Senior Data & API Consultant   \n",
       "1124  3/31/2023                                              Staff   \n",
       "1125  3/31/2023      Software Performance Analyst (Cyber Security)   \n",
       "1126  3/31/2023                                 Team Lead-Big Data   \n",
       "\n",
       "                   Company                     Loaction Job_type  \\\n",
       "0                       EY    Trivandrum, Kerala, India  On-site   \n",
       "1     JPMorgan Chase & Co.   Mumbai, Maharashtra, India  On-site   \n",
       "2                      AMD  Bengaluru, Karnataka, India  On-site   \n",
       "3        VVDN Technologies   Chennai, Tamil Nadu, India  On-site   \n",
       "4         Leica Biosystems   Mumbai, Maharashtra, India  On-site   \n",
       "...                    ...                          ...      ...   \n",
       "1122               Genpact  Bengaluru, Karnataka, India  On-site   \n",
       "1123           Pluralsight  Bengaluru, Karnataka, India   Hybrid   \n",
       "1124                 Bunge        Andhra Pradesh, India  On-site   \n",
       "1125            BlackBerry         Uttar Pradesh, India  On-site   \n",
       "1126              Infogain     Gurugram, Haryana, India  On-site   \n",
       "\n",
       "                   Employees            Followers      Applicant  \\\n",
       "0          10,001+ employees  7,366,377 followers   9 applicants   \n",
       "1          10,001+ employees  3,791,093 followers  10 applicants   \n",
       "2          10,001+ employees  1,068,681 followers  41 applicants   \n",
       "3          10,001+ employees     62,010 followers  13 applicants   \n",
       "4      1,001-5,000 employees     86,924 followers  78 applicants   \n",
       "...                      ...                  ...            ...   \n",
       "1122       10,001+ employees  2,639,117 followers  58 applicants   \n",
       "1123   1,001-5,000 employees    175,876 followers   3 applicants   \n",
       "1124       10,001+ employees  1,213,984 followers  66 applicants   \n",
       "1125  5,001-10,000 employees    306,410 followers  65 applicants   \n",
       "1126  5,001-10,000 employees    209,419 followers  40 applicants   \n",
       "\n",
       "                               Industry                   Invovlement  \n",
       "0     Information Technology & Services  Full-time · Mid-Senior level  \n",
       "1                    Financial Services                     Full-time  \n",
       "2                        Semiconductors  Full-time · Mid-Senior level  \n",
       "3     Information Technology & Services  Full-time · Mid-Senior level  \n",
       "4                        Medical Device                     Full-time  \n",
       "...                                 ...                           ...  \n",
       "1122  Information Technology & Services         Full-time · Associate  \n",
       "1123                  Computer Software  Full-time · Mid-Senior level  \n",
       "1124                    Food Production         Full-time · Associate  \n",
       "1125                  Computer Software                     Full-time  \n",
       "1126  Information Technology & Services                     Full-time  \n",
       "\n",
       "[1127 rows x 10 columns]"
      ]
     },
     "execution_count": 128,
     "metadata": {},
     "output_type": "execute_result"
    }
   ],
   "source": [
    "link"
   ]
  },
  {
   "cell_type": "code",
   "execution_count": 129,
   "id": "5e239d61",
   "metadata": {
    "ExecuteTime": {
     "end_time": "2023-04-17T04:20:35.790009Z",
     "start_time": "2023-04-17T04:20:35.779114Z"
    }
   },
   "outputs": [
    {
     "data": {
      "text/plain": [
       "(1127, 10)"
      ]
     },
     "execution_count": 129,
     "metadata": {},
     "output_type": "execute_result"
    }
   ],
   "source": [
    "link.shape"
   ]
  },
  {
   "cell_type": "code",
   "execution_count": 130,
   "id": "c5d7f363",
   "metadata": {
    "ExecuteTime": {
     "end_time": "2023-04-17T04:20:35.805296Z",
     "start_time": "2023-04-17T04:20:35.792403Z"
    }
   },
   "outputs": [],
   "source": [
    "link.drop(columns=['Date'],axis=1,inplace=True)"
   ]
  },
  {
   "cell_type": "markdown",
   "id": "cd559c55",
   "metadata": {},
   "source": [
    "# Text cleaning"
   ]
  },
  {
   "cell_type": "code",
   "execution_count": 131,
   "id": "51ab71c6",
   "metadata": {
    "ExecuteTime": {
     "end_time": "2023-04-17T04:20:35.820520Z",
     "start_time": "2023-04-17T04:20:35.808512Z"
    }
   },
   "outputs": [],
   "source": [
    "link[['City', 'state']] = link['Loaction'].str.split(', ',n=1, expand=True)\n",
    "link.drop(columns=['Loaction'],axis=1,inplace=True)"
   ]
  },
  {
   "cell_type": "code",
   "execution_count": 132,
   "id": "9ea8420a",
   "metadata": {
    "ExecuteTime": {
     "end_time": "2023-04-17T04:20:35.832601Z",
     "start_time": "2023-04-17T04:20:35.823869Z"
    }
   },
   "outputs": [],
   "source": [
    "# define a function to remove punctuation\n",
    "def remove_punctuation(text):\n",
    "    return text.translate(str.maketrans('', '', string.punctuation))"
   ]
  },
  {
   "cell_type": "code",
   "execution_count": 133,
   "id": "2e29a0fb",
   "metadata": {
    "ExecuteTime": {
     "end_time": "2023-04-17T04:20:35.849238Z",
     "start_time": "2023-04-17T04:20:35.833603Z"
    }
   },
   "outputs": [],
   "source": [
    "#remove all the punctuations\n",
    "link1 = link.copy()\n",
    "link1.loc[:, 'Job_Name']  =link1.loc[:, 'Job_Name'] .str.replace('[{}]'.format(string.punctuation), '', regex=True)\n",
    "link1.loc[:, 'Followers']  =link1.loc[:, 'Followers'] .str.replace('[{}]'.format(string.punctuation), '', regex=True)\n",
    "link1.loc[:, 'state']  =link1.loc[:, 'state'] .str.replace('[{}]'.format(string.punctuation), '', regex=True)\n"
   ]
  },
  {
   "cell_type": "code",
   "execution_count": 134,
   "id": "5d755c02",
   "metadata": {
    "ExecuteTime": {
     "end_time": "2023-04-17T04:20:35.865723Z",
     "start_time": "2023-04-17T04:20:35.850697Z"
    }
   },
   "outputs": [],
   "source": [
    "# Remove the word \"followers\" from the \"Followers\" column\n",
    "link1['Followers'] = link1['Followers'].str.replace('followers', '')"
   ]
  },
  {
   "cell_type": "code",
   "execution_count": 135,
   "id": "3d713d98",
   "metadata": {
    "ExecuteTime": {
     "end_time": "2023-04-17T04:20:35.878186Z",
     "start_time": "2023-04-17T04:20:35.867180Z"
    }
   },
   "outputs": [],
   "source": [
    "# Remove the word \"followers\" from the \"Followers\" column\n",
    "link1['Followers'] = link1['Followers'].str.replace('followers', '')"
   ]
  },
  {
   "cell_type": "code",
   "execution_count": 136,
   "id": "c78736b6",
   "metadata": {
    "ExecuteTime": {
     "end_time": "2023-04-17T04:20:35.898908Z",
     "start_time": "2023-04-17T04:20:35.878186Z"
    }
   },
   "outputs": [],
   "source": [
    "# Remove the word \"Applicant\" from the \"Applicant\" column\n",
    "link1['Applicant'] = link['Applicant'].str.replace('applicants', '')"
   ]
  },
  {
   "cell_type": "code",
   "execution_count": 137,
   "id": "6e22ae80",
   "metadata": {
    "ExecuteTime": {
     "end_time": "2023-04-17T04:20:35.915945Z",
     "start_time": "2023-04-17T04:20:35.900929Z"
    }
   },
   "outputs": [],
   "source": [
    "# Remove the word \"India\" from the \"state\" column\n",
    "link1['state'] = link1['state'].str.replace('india', '') "
   ]
  },
  {
   "cell_type": "code",
   "execution_count": 138,
   "id": "063d661e",
   "metadata": {
    "ExecuteTime": {
     "end_time": "2023-04-17T04:20:35.949686Z",
     "start_time": "2023-04-17T04:20:35.917626Z"
    }
   },
   "outputs": [
    {
     "data": {
      "text/html": [
       "<div>\n",
       "<style scoped>\n",
       "    .dataframe tbody tr th:only-of-type {\n",
       "        vertical-align: middle;\n",
       "    }\n",
       "\n",
       "    .dataframe tbody tr th {\n",
       "        vertical-align: top;\n",
       "    }\n",
       "\n",
       "    .dataframe thead th {\n",
       "        text-align: right;\n",
       "    }\n",
       "</style>\n",
       "<table border=\"1\" class=\"dataframe\">\n",
       "  <thead>\n",
       "    <tr style=\"text-align: right;\">\n",
       "      <th></th>\n",
       "      <th>Job_Name</th>\n",
       "      <th>Company</th>\n",
       "      <th>Job_type</th>\n",
       "      <th>Employees</th>\n",
       "      <th>Followers</th>\n",
       "      <th>Applicant</th>\n",
       "      <th>Industry</th>\n",
       "      <th>Invovlement</th>\n",
       "      <th>City</th>\n",
       "      <th>state</th>\n",
       "    </tr>\n",
       "  </thead>\n",
       "  <tbody>\n",
       "    <tr>\n",
       "      <th>0</th>\n",
       "      <td>Client Technology Platform Engineering Senior ...</td>\n",
       "      <td>EY</td>\n",
       "      <td>On-site</td>\n",
       "      <td>10,001+ employees</td>\n",
       "      <td>7366377</td>\n",
       "      <td>9</td>\n",
       "      <td>Information Technology &amp; Services</td>\n",
       "      <td>Full-time · Mid-Senior level</td>\n",
       "      <td>Trivandrum</td>\n",
       "      <td>Kerala India</td>\n",
       "    </tr>\n",
       "    <tr>\n",
       "      <th>1</th>\n",
       "      <td>Associate  Global Intelligence Open Source Col...</td>\n",
       "      <td>JPMorgan Chase &amp; Co.</td>\n",
       "      <td>On-site</td>\n",
       "      <td>10,001+ employees</td>\n",
       "      <td>3791093</td>\n",
       "      <td>10</td>\n",
       "      <td>Financial Services</td>\n",
       "      <td>Full-time</td>\n",
       "      <td>Mumbai</td>\n",
       "      <td>Maharashtra India</td>\n",
       "    </tr>\n",
       "    <tr>\n",
       "      <th>2</th>\n",
       "      <td>MTS Software Development Eng</td>\n",
       "      <td>AMD</td>\n",
       "      <td>On-site</td>\n",
       "      <td>10,001+ employees</td>\n",
       "      <td>1068681</td>\n",
       "      <td>41</td>\n",
       "      <td>Semiconductors</td>\n",
       "      <td>Full-time · Mid-Senior level</td>\n",
       "      <td>Bengaluru</td>\n",
       "      <td>Karnataka India</td>\n",
       "    </tr>\n",
       "    <tr>\n",
       "      <th>3</th>\n",
       "      <td>Tech Lead  Wifi Development</td>\n",
       "      <td>VVDN Technologies</td>\n",
       "      <td>On-site</td>\n",
       "      <td>10,001+ employees</td>\n",
       "      <td>62010</td>\n",
       "      <td>13</td>\n",
       "      <td>Information Technology &amp; Services</td>\n",
       "      <td>Full-time · Mid-Senior level</td>\n",
       "      <td>Chennai</td>\n",
       "      <td>Tamil Nadu India</td>\n",
       "    </tr>\n",
       "    <tr>\n",
       "      <th>4</th>\n",
       "      <td>Senior Application Specialist</td>\n",
       "      <td>Leica Biosystems</td>\n",
       "      <td>On-site</td>\n",
       "      <td>1,001-5,000 employees</td>\n",
       "      <td>86924</td>\n",
       "      <td>78</td>\n",
       "      <td>Medical Device</td>\n",
       "      <td>Full-time</td>\n",
       "      <td>Mumbai</td>\n",
       "      <td>Maharashtra India</td>\n",
       "    </tr>\n",
       "    <tr>\n",
       "      <th>...</th>\n",
       "      <td>...</td>\n",
       "      <td>...</td>\n",
       "      <td>...</td>\n",
       "      <td>...</td>\n",
       "      <td>...</td>\n",
       "      <td>...</td>\n",
       "      <td>...</td>\n",
       "      <td>...</td>\n",
       "      <td>...</td>\n",
       "      <td>...</td>\n",
       "    </tr>\n",
       "    <tr>\n",
       "      <th>1122</th>\n",
       "      <td>AM AnalyticsANA007048</td>\n",
       "      <td>Genpact</td>\n",
       "      <td>On-site</td>\n",
       "      <td>10,001+ employees</td>\n",
       "      <td>2639117</td>\n",
       "      <td>58</td>\n",
       "      <td>Information Technology &amp; Services</td>\n",
       "      <td>Full-time · Associate</td>\n",
       "      <td>Bengaluru</td>\n",
       "      <td>Karnataka India</td>\n",
       "    </tr>\n",
       "    <tr>\n",
       "      <th>1123</th>\n",
       "      <td>Senior Data  API Consultant</td>\n",
       "      <td>Pluralsight</td>\n",
       "      <td>Hybrid</td>\n",
       "      <td>1,001-5,000 employees</td>\n",
       "      <td>175876</td>\n",
       "      <td>3</td>\n",
       "      <td>Computer Software</td>\n",
       "      <td>Full-time · Mid-Senior level</td>\n",
       "      <td>Bengaluru</td>\n",
       "      <td>Karnataka India</td>\n",
       "    </tr>\n",
       "    <tr>\n",
       "      <th>1124</th>\n",
       "      <td>Staff</td>\n",
       "      <td>Bunge</td>\n",
       "      <td>On-site</td>\n",
       "      <td>10,001+ employees</td>\n",
       "      <td>1213984</td>\n",
       "      <td>66</td>\n",
       "      <td>Food Production</td>\n",
       "      <td>Full-time · Associate</td>\n",
       "      <td>Andhra Pradesh</td>\n",
       "      <td>India</td>\n",
       "    </tr>\n",
       "    <tr>\n",
       "      <th>1125</th>\n",
       "      <td>Software Performance Analyst Cyber Security</td>\n",
       "      <td>BlackBerry</td>\n",
       "      <td>On-site</td>\n",
       "      <td>5,001-10,000 employees</td>\n",
       "      <td>306410</td>\n",
       "      <td>65</td>\n",
       "      <td>Computer Software</td>\n",
       "      <td>Full-time</td>\n",
       "      <td>Uttar Pradesh</td>\n",
       "      <td>India</td>\n",
       "    </tr>\n",
       "    <tr>\n",
       "      <th>1126</th>\n",
       "      <td>Team LeadBig Data</td>\n",
       "      <td>Infogain</td>\n",
       "      <td>On-site</td>\n",
       "      <td>5,001-10,000 employees</td>\n",
       "      <td>209419</td>\n",
       "      <td>40</td>\n",
       "      <td>Information Technology &amp; Services</td>\n",
       "      <td>Full-time</td>\n",
       "      <td>Gurugram</td>\n",
       "      <td>Haryana India</td>\n",
       "    </tr>\n",
       "  </tbody>\n",
       "</table>\n",
       "<p>1127 rows × 10 columns</p>\n",
       "</div>"
      ],
      "text/plain": [
       "                                               Job_Name               Company  \\\n",
       "0     Client Technology Platform Engineering Senior ...                    EY   \n",
       "1     Associate  Global Intelligence Open Source Col...  JPMorgan Chase & Co.   \n",
       "2                          MTS Software Development Eng                   AMD   \n",
       "3                           Tech Lead  Wifi Development     VVDN Technologies   \n",
       "4                         Senior Application Specialist      Leica Biosystems   \n",
       "...                                                 ...                   ...   \n",
       "1122                              AM AnalyticsANA007048               Genpact   \n",
       "1123                        Senior Data  API Consultant           Pluralsight   \n",
       "1124                                              Staff                 Bunge   \n",
       "1125        Software Performance Analyst Cyber Security            BlackBerry   \n",
       "1126                                  Team LeadBig Data              Infogain   \n",
       "\n",
       "     Job_type               Employees Followers Applicant  \\\n",
       "0     On-site       10,001+ employees  7366377         9    \n",
       "1     On-site       10,001+ employees  3791093        10    \n",
       "2     On-site       10,001+ employees  1068681        41    \n",
       "3     On-site       10,001+ employees    62010        13    \n",
       "4     On-site   1,001-5,000 employees    86924        78    \n",
       "...       ...                     ...       ...       ...   \n",
       "1122  On-site       10,001+ employees  2639117        58    \n",
       "1123   Hybrid   1,001-5,000 employees   175876         3    \n",
       "1124  On-site       10,001+ employees  1213984        66    \n",
       "1125  On-site  5,001-10,000 employees   306410        65    \n",
       "1126  On-site  5,001-10,000 employees   209419        40    \n",
       "\n",
       "                               Industry                   Invovlement  \\\n",
       "0     Information Technology & Services  Full-time · Mid-Senior level   \n",
       "1                    Financial Services                     Full-time   \n",
       "2                        Semiconductors  Full-time · Mid-Senior level   \n",
       "3     Information Technology & Services  Full-time · Mid-Senior level   \n",
       "4                        Medical Device                     Full-time   \n",
       "...                                 ...                           ...   \n",
       "1122  Information Technology & Services         Full-time · Associate   \n",
       "1123                  Computer Software  Full-time · Mid-Senior level   \n",
       "1124                    Food Production         Full-time · Associate   \n",
       "1125                  Computer Software                     Full-time   \n",
       "1126  Information Technology & Services                     Full-time   \n",
       "\n",
       "                City              state  \n",
       "0         Trivandrum       Kerala India  \n",
       "1             Mumbai  Maharashtra India  \n",
       "2          Bengaluru    Karnataka India  \n",
       "3            Chennai   Tamil Nadu India  \n",
       "4             Mumbai  Maharashtra India  \n",
       "...              ...                ...  \n",
       "1122       Bengaluru    Karnataka India  \n",
       "1123       Bengaluru    Karnataka India  \n",
       "1124  Andhra Pradesh              India  \n",
       "1125   Uttar Pradesh              India  \n",
       "1126        Gurugram      Haryana India  \n",
       "\n",
       "[1127 rows x 10 columns]"
      ]
     },
     "execution_count": 138,
     "metadata": {},
     "output_type": "execute_result"
    }
   ],
   "source": [
    "link1"
   ]
  },
  {
   "cell_type": "code",
   "execution_count": 139,
   "id": "68df2d53",
   "metadata": {
    "ExecuteTime": {
     "end_time": "2023-04-17T04:20:35.966120Z",
     "start_time": "2023-04-17T04:20:35.951114Z"
    }
   },
   "outputs": [
    {
     "data": {
      "text/html": [
       "<div>\n",
       "<style scoped>\n",
       "    .dataframe tbody tr th:only-of-type {\n",
       "        vertical-align: middle;\n",
       "    }\n",
       "\n",
       "    .dataframe tbody tr th {\n",
       "        vertical-align: top;\n",
       "    }\n",
       "\n",
       "    .dataframe thead th {\n",
       "        text-align: right;\n",
       "    }\n",
       "</style>\n",
       "<table border=\"1\" class=\"dataframe\">\n",
       "  <thead>\n",
       "    <tr style=\"text-align: right;\">\n",
       "      <th></th>\n",
       "      <th>Job_Name</th>\n",
       "      <th>Company</th>\n",
       "      <th>Job_type</th>\n",
       "      <th>Employees</th>\n",
       "      <th>Followers</th>\n",
       "      <th>Applicant</th>\n",
       "      <th>Industry</th>\n",
       "      <th>Invovlement</th>\n",
       "      <th>City</th>\n",
       "      <th>state</th>\n",
       "    </tr>\n",
       "  </thead>\n",
       "  <tbody>\n",
       "    <tr>\n",
       "      <th>1122</th>\n",
       "      <td>AM AnalyticsANA007048</td>\n",
       "      <td>Genpact</td>\n",
       "      <td>On-site</td>\n",
       "      <td>10,001+ employees</td>\n",
       "      <td>2639117</td>\n",
       "      <td>58</td>\n",
       "      <td>Information Technology &amp; Services</td>\n",
       "      <td>Full-time · Associate</td>\n",
       "      <td>Bengaluru</td>\n",
       "      <td>Karnataka India</td>\n",
       "    </tr>\n",
       "    <tr>\n",
       "      <th>1123</th>\n",
       "      <td>Senior Data  API Consultant</td>\n",
       "      <td>Pluralsight</td>\n",
       "      <td>Hybrid</td>\n",
       "      <td>1,001-5,000 employees</td>\n",
       "      <td>175876</td>\n",
       "      <td>3</td>\n",
       "      <td>Computer Software</td>\n",
       "      <td>Full-time · Mid-Senior level</td>\n",
       "      <td>Bengaluru</td>\n",
       "      <td>Karnataka India</td>\n",
       "    </tr>\n",
       "    <tr>\n",
       "      <th>1124</th>\n",
       "      <td>Staff</td>\n",
       "      <td>Bunge</td>\n",
       "      <td>On-site</td>\n",
       "      <td>10,001+ employees</td>\n",
       "      <td>1213984</td>\n",
       "      <td>66</td>\n",
       "      <td>Food Production</td>\n",
       "      <td>Full-time · Associate</td>\n",
       "      <td>Andhra Pradesh</td>\n",
       "      <td>India</td>\n",
       "    </tr>\n",
       "    <tr>\n",
       "      <th>1125</th>\n",
       "      <td>Software Performance Analyst Cyber Security</td>\n",
       "      <td>BlackBerry</td>\n",
       "      <td>On-site</td>\n",
       "      <td>5,001-10,000 employees</td>\n",
       "      <td>306410</td>\n",
       "      <td>65</td>\n",
       "      <td>Computer Software</td>\n",
       "      <td>Full-time</td>\n",
       "      <td>Uttar Pradesh</td>\n",
       "      <td>India</td>\n",
       "    </tr>\n",
       "    <tr>\n",
       "      <th>1126</th>\n",
       "      <td>Team LeadBig Data</td>\n",
       "      <td>Infogain</td>\n",
       "      <td>On-site</td>\n",
       "      <td>5,001-10,000 employees</td>\n",
       "      <td>209419</td>\n",
       "      <td>40</td>\n",
       "      <td>Information Technology &amp; Services</td>\n",
       "      <td>Full-time</td>\n",
       "      <td>Gurugram</td>\n",
       "      <td>Haryana India</td>\n",
       "    </tr>\n",
       "  </tbody>\n",
       "</table>\n",
       "</div>"
      ],
      "text/plain": [
       "                                         Job_Name      Company Job_type  \\\n",
       "1122                        AM AnalyticsANA007048      Genpact  On-site   \n",
       "1123                  Senior Data  API Consultant  Pluralsight   Hybrid   \n",
       "1124                                        Staff        Bunge  On-site   \n",
       "1125  Software Performance Analyst Cyber Security   BlackBerry  On-site   \n",
       "1126                            Team LeadBig Data     Infogain  On-site   \n",
       "\n",
       "                   Employees Followers Applicant  \\\n",
       "1122       10,001+ employees  2639117        58    \n",
       "1123   1,001-5,000 employees   175876         3    \n",
       "1124       10,001+ employees  1213984        66    \n",
       "1125  5,001-10,000 employees   306410        65    \n",
       "1126  5,001-10,000 employees   209419        40    \n",
       "\n",
       "                               Industry                   Invovlement  \\\n",
       "1122  Information Technology & Services         Full-time · Associate   \n",
       "1123                  Computer Software  Full-time · Mid-Senior level   \n",
       "1124                    Food Production         Full-time · Associate   \n",
       "1125                  Computer Software                     Full-time   \n",
       "1126  Information Technology & Services                     Full-time   \n",
       "\n",
       "                City            state  \n",
       "1122       Bengaluru  Karnataka India  \n",
       "1123       Bengaluru  Karnataka India  \n",
       "1124  Andhra Pradesh            India  \n",
       "1125   Uttar Pradesh            India  \n",
       "1126        Gurugram    Haryana India  "
      ]
     },
     "execution_count": 139,
     "metadata": {},
     "output_type": "execute_result"
    }
   ],
   "source": [
    "link1.tail()"
   ]
  },
  {
   "cell_type": "code",
   "execution_count": 140,
   "id": "4f806ce9",
   "metadata": {
    "ExecuteTime": {
     "end_time": "2023-04-17T04:20:35.981807Z",
     "start_time": "2023-04-17T04:20:35.967293Z"
    }
   },
   "outputs": [
    {
     "name": "stdout",
     "output_type": "stream",
     "text": [
      "<class 'pandas.core.frame.DataFrame'>\n",
      "RangeIndex: 1127 entries, 0 to 1126\n",
      "Data columns (total 10 columns):\n",
      " #   Column       Non-Null Count  Dtype \n",
      "---  ------       --------------  ----- \n",
      " 0   Job_Name     1127 non-null   object\n",
      " 1   Company      1127 non-null   object\n",
      " 2   Job_type     1127 non-null   object\n",
      " 3   Employees    1127 non-null   object\n",
      " 4   Followers    1127 non-null   object\n",
      " 5   Applicant    1126 non-null   object\n",
      " 6   Industry     1126 non-null   object\n",
      " 7   Invovlement  1127 non-null   object\n",
      " 8   City         1127 non-null   object\n",
      " 9   state        1058 non-null   object\n",
      "dtypes: object(10)\n",
      "memory usage: 88.2+ KB\n"
     ]
    }
   ],
   "source": [
    "#info() is used to check the Information about the data and the datatypes of each respective attribute.\n",
    "link1.info()"
   ]
  },
  {
   "cell_type": "code",
   "execution_count": 141,
   "id": "1313ccce",
   "metadata": {
    "ExecuteTime": {
     "end_time": "2023-04-17T04:20:35.999247Z",
     "start_time": "2023-04-17T04:20:35.983739Z"
    }
   },
   "outputs": [
    {
     "data": {
      "text/plain": [
       "['Job_Name',\n",
       " 'Company',\n",
       " 'Job_type',\n",
       " 'Employees',\n",
       " 'Followers',\n",
       " 'Applicant',\n",
       " 'Industry',\n",
       " 'Invovlement',\n",
       " 'City',\n",
       " 'state']"
      ]
     },
     "execution_count": 141,
     "metadata": {},
     "output_type": "execute_result"
    }
   ],
   "source": [
    "list(link1.columns)"
   ]
  },
  {
   "cell_type": "markdown",
   "id": "438e9744",
   "metadata": {},
   "source": [
    "# Handling missing value"
   ]
  },
  {
   "cell_type": "code",
   "execution_count": 142,
   "id": "e9c5e427",
   "metadata": {
    "ExecuteTime": {
     "end_time": "2023-04-17T04:20:36.023276Z",
     "start_time": "2023-04-17T04:20:36.000789Z"
    }
   },
   "outputs": [
    {
     "data": {
      "text/plain": [
       "Job_Name        0\n",
       "Company         0\n",
       "Job_type        0\n",
       "Employees       0\n",
       "Followers       0\n",
       "Applicant       1\n",
       "Industry        1\n",
       "Invovlement     0\n",
       "City            0\n",
       "state          69\n",
       "dtype: int64"
      ]
     },
     "execution_count": 142,
     "metadata": {},
     "output_type": "execute_result"
    }
   ],
   "source": [
    "#checking for missing value in any column\n",
    "link1.isnull().sum()"
   ]
  },
  {
   "cell_type": "code",
   "execution_count": 143,
   "id": "c4bccbfb",
   "metadata": {
    "ExecuteTime": {
     "end_time": "2023-04-17T04:20:36.049708Z",
     "start_time": "2023-04-17T04:20:36.023276Z"
    }
   },
   "outputs": [],
   "source": [
    "#Replacing NULL values in catogrical Columns using Mode\n",
    "mode1=link1['Applicant'].mode().values[0]\n",
    "mode2=link1['Industry'].mode().values[0]\n",
    "mode3=link1['state'].mode().values[0]\n",
    "link1['Applicant']=link1['Applicant'].replace(np.nan,mode1)\n",
    "link1['Industry']=link1['Industry'].replace(np.nan,mode2)\n",
    "link1['state']=link1['state'].replace(np.nan,mode3)\n"
   ]
  },
  {
   "cell_type": "code",
   "execution_count": 144,
   "id": "0963b54b",
   "metadata": {
    "ExecuteTime": {
     "end_time": "2023-04-17T04:20:36.066168Z",
     "start_time": "2023-04-17T04:20:36.050555Z"
    }
   },
   "outputs": [
    {
     "data": {
      "text/plain": [
       "Job_Name       0\n",
       "Company        0\n",
       "Job_type       0\n",
       "Employees      0\n",
       "Followers      0\n",
       "Applicant      0\n",
       "Industry       0\n",
       "Invovlement    0\n",
       "City           0\n",
       "state          0\n",
       "dtype: int64"
      ]
     },
     "execution_count": 144,
     "metadata": {},
     "output_type": "execute_result"
    }
   ],
   "source": [
    "link1.isnull().sum()"
   ]
  },
  {
   "cell_type": "markdown",
   "id": "c686f845",
   "metadata": {},
   "source": [
    "# Handling Duplicate records "
   ]
  },
  {
   "cell_type": "code",
   "execution_count": 145,
   "id": "bcf8152c",
   "metadata": {
    "ExecuteTime": {
     "end_time": "2023-04-17T04:20:36.091623Z",
     "start_time": "2023-04-17T04:20:36.068273Z"
    }
   },
   "outputs": [
    {
     "data": {
      "text/plain": [
       "79"
      ]
     },
     "execution_count": 145,
     "metadata": {},
     "output_type": "execute_result"
    }
   ],
   "source": [
    "link1.duplicated().sum()  "
   ]
  },
  {
   "cell_type": "code",
   "execution_count": 146,
   "id": "c59a4e57",
   "metadata": {
    "ExecuteTime": {
     "end_time": "2023-04-17T04:20:36.107276Z",
     "start_time": "2023-04-17T04:20:36.093644Z"
    }
   },
   "outputs": [],
   "source": [
    "link1 = link1.drop_duplicates()"
   ]
  },
  {
   "cell_type": "code",
   "execution_count": 147,
   "id": "6f6ba8b9",
   "metadata": {
    "ExecuteTime": {
     "end_time": "2023-04-17T04:20:36.136421Z",
     "start_time": "2023-04-17T04:20:36.109295Z"
    }
   },
   "outputs": [
    {
     "data": {
      "text/html": [
       "<div>\n",
       "<style scoped>\n",
       "    .dataframe tbody tr th:only-of-type {\n",
       "        vertical-align: middle;\n",
       "    }\n",
       "\n",
       "    .dataframe tbody tr th {\n",
       "        vertical-align: top;\n",
       "    }\n",
       "\n",
       "    .dataframe thead th {\n",
       "        text-align: right;\n",
       "    }\n",
       "</style>\n",
       "<table border=\"1\" class=\"dataframe\">\n",
       "  <thead>\n",
       "    <tr style=\"text-align: right;\">\n",
       "      <th></th>\n",
       "      <th>Job_Name</th>\n",
       "      <th>Company</th>\n",
       "      <th>Job_type</th>\n",
       "      <th>Employees</th>\n",
       "      <th>Followers</th>\n",
       "      <th>Applicant</th>\n",
       "      <th>Industry</th>\n",
       "      <th>Invovlement</th>\n",
       "      <th>City</th>\n",
       "      <th>state</th>\n",
       "    </tr>\n",
       "  </thead>\n",
       "  <tbody>\n",
       "    <tr>\n",
       "      <th>0</th>\n",
       "      <td>Client Technology Platform Engineering Senior ...</td>\n",
       "      <td>EY</td>\n",
       "      <td>On-site</td>\n",
       "      <td>10,001+ employees</td>\n",
       "      <td>7366377</td>\n",
       "      <td>9</td>\n",
       "      <td>Information Technology &amp; Services</td>\n",
       "      <td>Full-time · Mid-Senior level</td>\n",
       "      <td>Trivandrum</td>\n",
       "      <td>Kerala India</td>\n",
       "    </tr>\n",
       "    <tr>\n",
       "      <th>1</th>\n",
       "      <td>Associate  Global Intelligence Open Source Col...</td>\n",
       "      <td>JPMorgan Chase &amp; Co.</td>\n",
       "      <td>On-site</td>\n",
       "      <td>10,001+ employees</td>\n",
       "      <td>3791093</td>\n",
       "      <td>10</td>\n",
       "      <td>Financial Services</td>\n",
       "      <td>Full-time</td>\n",
       "      <td>Mumbai</td>\n",
       "      <td>Maharashtra India</td>\n",
       "    </tr>\n",
       "    <tr>\n",
       "      <th>2</th>\n",
       "      <td>MTS Software Development Eng</td>\n",
       "      <td>AMD</td>\n",
       "      <td>On-site</td>\n",
       "      <td>10,001+ employees</td>\n",
       "      <td>1068681</td>\n",
       "      <td>41</td>\n",
       "      <td>Semiconductors</td>\n",
       "      <td>Full-time · Mid-Senior level</td>\n",
       "      <td>Bengaluru</td>\n",
       "      <td>Karnataka India</td>\n",
       "    </tr>\n",
       "    <tr>\n",
       "      <th>3</th>\n",
       "      <td>Tech Lead  Wifi Development</td>\n",
       "      <td>VVDN Technologies</td>\n",
       "      <td>On-site</td>\n",
       "      <td>10,001+ employees</td>\n",
       "      <td>62010</td>\n",
       "      <td>13</td>\n",
       "      <td>Information Technology &amp; Services</td>\n",
       "      <td>Full-time · Mid-Senior level</td>\n",
       "      <td>Chennai</td>\n",
       "      <td>Tamil Nadu India</td>\n",
       "    </tr>\n",
       "    <tr>\n",
       "      <th>4</th>\n",
       "      <td>Senior Application Specialist</td>\n",
       "      <td>Leica Biosystems</td>\n",
       "      <td>On-site</td>\n",
       "      <td>1,001-5,000 employees</td>\n",
       "      <td>86924</td>\n",
       "      <td>78</td>\n",
       "      <td>Medical Device</td>\n",
       "      <td>Full-time</td>\n",
       "      <td>Mumbai</td>\n",
       "      <td>Maharashtra India</td>\n",
       "    </tr>\n",
       "    <tr>\n",
       "      <th>...</th>\n",
       "      <td>...</td>\n",
       "      <td>...</td>\n",
       "      <td>...</td>\n",
       "      <td>...</td>\n",
       "      <td>...</td>\n",
       "      <td>...</td>\n",
       "      <td>...</td>\n",
       "      <td>...</td>\n",
       "      <td>...</td>\n",
       "      <td>...</td>\n",
       "    </tr>\n",
       "    <tr>\n",
       "      <th>1121</th>\n",
       "      <td>Senior Tableau Developer</td>\n",
       "      <td>Valiantys - Atlassian Platinum Solution Partner</td>\n",
       "      <td>Remote</td>\n",
       "      <td>501-1,000 employees</td>\n",
       "      <td>8449</td>\n",
       "      <td>72</td>\n",
       "      <td>Information Technology &amp; Services</td>\n",
       "      <td>Full-time</td>\n",
       "      <td>Delhi</td>\n",
       "      <td>Delhi India</td>\n",
       "    </tr>\n",
       "    <tr>\n",
       "      <th>1122</th>\n",
       "      <td>AM AnalyticsANA007048</td>\n",
       "      <td>Genpact</td>\n",
       "      <td>On-site</td>\n",
       "      <td>10,001+ employees</td>\n",
       "      <td>2639117</td>\n",
       "      <td>58</td>\n",
       "      <td>Information Technology &amp; Services</td>\n",
       "      <td>Full-time · Associate</td>\n",
       "      <td>Bengaluru</td>\n",
       "      <td>Karnataka India</td>\n",
       "    </tr>\n",
       "    <tr>\n",
       "      <th>1123</th>\n",
       "      <td>Senior Data  API Consultant</td>\n",
       "      <td>Pluralsight</td>\n",
       "      <td>Hybrid</td>\n",
       "      <td>1,001-5,000 employees</td>\n",
       "      <td>175876</td>\n",
       "      <td>3</td>\n",
       "      <td>Computer Software</td>\n",
       "      <td>Full-time · Mid-Senior level</td>\n",
       "      <td>Bengaluru</td>\n",
       "      <td>Karnataka India</td>\n",
       "    </tr>\n",
       "    <tr>\n",
       "      <th>1124</th>\n",
       "      <td>Staff</td>\n",
       "      <td>Bunge</td>\n",
       "      <td>On-site</td>\n",
       "      <td>10,001+ employees</td>\n",
       "      <td>1213984</td>\n",
       "      <td>66</td>\n",
       "      <td>Food Production</td>\n",
       "      <td>Full-time · Associate</td>\n",
       "      <td>Andhra Pradesh</td>\n",
       "      <td>India</td>\n",
       "    </tr>\n",
       "    <tr>\n",
       "      <th>1126</th>\n",
       "      <td>Team LeadBig Data</td>\n",
       "      <td>Infogain</td>\n",
       "      <td>On-site</td>\n",
       "      <td>5,001-10,000 employees</td>\n",
       "      <td>209419</td>\n",
       "      <td>40</td>\n",
       "      <td>Information Technology &amp; Services</td>\n",
       "      <td>Full-time</td>\n",
       "      <td>Gurugram</td>\n",
       "      <td>Haryana India</td>\n",
       "    </tr>\n",
       "  </tbody>\n",
       "</table>\n",
       "<p>1048 rows × 10 columns</p>\n",
       "</div>"
      ],
      "text/plain": [
       "                                               Job_Name  \\\n",
       "0     Client Technology Platform Engineering Senior ...   \n",
       "1     Associate  Global Intelligence Open Source Col...   \n",
       "2                          MTS Software Development Eng   \n",
       "3                           Tech Lead  Wifi Development   \n",
       "4                         Senior Application Specialist   \n",
       "...                                                 ...   \n",
       "1121                           Senior Tableau Developer   \n",
       "1122                              AM AnalyticsANA007048   \n",
       "1123                        Senior Data  API Consultant   \n",
       "1124                                              Staff   \n",
       "1126                                  Team LeadBig Data   \n",
       "\n",
       "                                              Company Job_type  \\\n",
       "0                                                  EY  On-site   \n",
       "1                                JPMorgan Chase & Co.  On-site   \n",
       "2                                                 AMD  On-site   \n",
       "3                                   VVDN Technologies  On-site   \n",
       "4                                    Leica Biosystems  On-site   \n",
       "...                                               ...      ...   \n",
       "1121  Valiantys - Atlassian Platinum Solution Partner   Remote   \n",
       "1122                                          Genpact  On-site   \n",
       "1123                                      Pluralsight   Hybrid   \n",
       "1124                                            Bunge  On-site   \n",
       "1126                                         Infogain  On-site   \n",
       "\n",
       "                   Employees Followers Applicant  \\\n",
       "0          10,001+ employees  7366377         9    \n",
       "1          10,001+ employees  3791093        10    \n",
       "2          10,001+ employees  1068681        41    \n",
       "3          10,001+ employees    62010        13    \n",
       "4      1,001-5,000 employees    86924        78    \n",
       "...                      ...       ...       ...   \n",
       "1121     501-1,000 employees     8449        72    \n",
       "1122       10,001+ employees  2639117        58    \n",
       "1123   1,001-5,000 employees   175876         3    \n",
       "1124       10,001+ employees  1213984        66    \n",
       "1126  5,001-10,000 employees   209419        40    \n",
       "\n",
       "                               Industry                   Invovlement  \\\n",
       "0     Information Technology & Services  Full-time · Mid-Senior level   \n",
       "1                    Financial Services                     Full-time   \n",
       "2                        Semiconductors  Full-time · Mid-Senior level   \n",
       "3     Information Technology & Services  Full-time · Mid-Senior level   \n",
       "4                        Medical Device                     Full-time   \n",
       "...                                 ...                           ...   \n",
       "1121  Information Technology & Services                     Full-time   \n",
       "1122  Information Technology & Services         Full-time · Associate   \n",
       "1123                  Computer Software  Full-time · Mid-Senior level   \n",
       "1124                    Food Production         Full-time · Associate   \n",
       "1126  Information Technology & Services                     Full-time   \n",
       "\n",
       "                City              state  \n",
       "0         Trivandrum       Kerala India  \n",
       "1             Mumbai  Maharashtra India  \n",
       "2          Bengaluru    Karnataka India  \n",
       "3            Chennai   Tamil Nadu India  \n",
       "4             Mumbai  Maharashtra India  \n",
       "...              ...                ...  \n",
       "1121           Delhi        Delhi India  \n",
       "1122       Bengaluru    Karnataka India  \n",
       "1123       Bengaluru    Karnataka India  \n",
       "1124  Andhra Pradesh              India  \n",
       "1126        Gurugram      Haryana India  \n",
       "\n",
       "[1048 rows x 10 columns]"
      ]
     },
     "execution_count": 147,
     "metadata": {},
     "output_type": "execute_result"
    }
   ],
   "source": [
    "link1"
   ]
  },
  {
   "cell_type": "markdown",
   "id": "2e4d2577",
   "metadata": {},
   "source": [
    "# check duplicate data again "
   ]
  },
  {
   "cell_type": "code",
   "execution_count": 148,
   "id": "e7f6963d",
   "metadata": {
    "ExecuteTime": {
     "end_time": "2023-04-17T04:20:36.152578Z",
     "start_time": "2023-04-17T04:20:36.138744Z"
    }
   },
   "outputs": [
    {
     "data": {
      "text/plain": [
       "0"
      ]
     },
     "execution_count": 148,
     "metadata": {},
     "output_type": "execute_result"
    }
   ],
   "source": [
    "link1.duplicated().sum() \n",
    "  "
   ]
  },
  {
   "cell_type": "code",
   "execution_count": 149,
   "id": "92a9db34",
   "metadata": {
    "ExecuteTime": {
     "end_time": "2023-04-17T04:20:36.183758Z",
     "start_time": "2023-04-17T04:20:36.154658Z"
    },
    "scrolled": true
   },
   "outputs": [
    {
     "data": {
      "text/html": [
       "<div>\n",
       "<style scoped>\n",
       "    .dataframe tbody tr th:only-of-type {\n",
       "        vertical-align: middle;\n",
       "    }\n",
       "\n",
       "    .dataframe tbody tr th {\n",
       "        vertical-align: top;\n",
       "    }\n",
       "\n",
       "    .dataframe thead th {\n",
       "        text-align: right;\n",
       "    }\n",
       "</style>\n",
       "<table border=\"1\" class=\"dataframe\">\n",
       "  <thead>\n",
       "    <tr style=\"text-align: right;\">\n",
       "      <th></th>\n",
       "      <th>count</th>\n",
       "      <th>unique</th>\n",
       "      <th>top</th>\n",
       "      <th>freq</th>\n",
       "    </tr>\n",
       "  </thead>\n",
       "  <tbody>\n",
       "    <tr>\n",
       "      <th>Job_Name</th>\n",
       "      <td>1048</td>\n",
       "      <td>693</td>\n",
       "      <td>Data Analyst</td>\n",
       "      <td>62</td>\n",
       "    </tr>\n",
       "    <tr>\n",
       "      <th>Company</th>\n",
       "      <td>1048</td>\n",
       "      <td>520</td>\n",
       "      <td>Accenture in India</td>\n",
       "      <td>50</td>\n",
       "    </tr>\n",
       "    <tr>\n",
       "      <th>Job_type</th>\n",
       "      <td>1048</td>\n",
       "      <td>3</td>\n",
       "      <td>On-site</td>\n",
       "      <td>676</td>\n",
       "    </tr>\n",
       "    <tr>\n",
       "      <th>Employees</th>\n",
       "      <td>1048</td>\n",
       "      <td>9</td>\n",
       "      <td>10,001+ employees</td>\n",
       "      <td>539</td>\n",
       "    </tr>\n",
       "    <tr>\n",
       "      <th>Followers</th>\n",
       "      <td>1048</td>\n",
       "      <td>932</td>\n",
       "      <td>8734</td>\n",
       "      <td>9</td>\n",
       "    </tr>\n",
       "    <tr>\n",
       "      <th>Applicant</th>\n",
       "      <td>1048</td>\n",
       "      <td>206</td>\n",
       "      <td>1 month ago                                  O...</td>\n",
       "      <td>31</td>\n",
       "    </tr>\n",
       "    <tr>\n",
       "      <th>Industry</th>\n",
       "      <td>1048</td>\n",
       "      <td>66</td>\n",
       "      <td>Information Technology &amp; Services</td>\n",
       "      <td>396</td>\n",
       "    </tr>\n",
       "    <tr>\n",
       "      <th>Invovlement</th>\n",
       "      <td>1048</td>\n",
       "      <td>20</td>\n",
       "      <td>Full-time · Mid-Senior level</td>\n",
       "      <td>488</td>\n",
       "    </tr>\n",
       "    <tr>\n",
       "      <th>City</th>\n",
       "      <td>1048</td>\n",
       "      <td>93</td>\n",
       "      <td>Bengaluru</td>\n",
       "      <td>271</td>\n",
       "    </tr>\n",
       "    <tr>\n",
       "      <th>state</th>\n",
       "      <td>1048</td>\n",
       "      <td>26</td>\n",
       "      <td>Karnataka India</td>\n",
       "      <td>386</td>\n",
       "    </tr>\n",
       "  </tbody>\n",
       "</table>\n",
       "</div>"
      ],
      "text/plain": [
       "            count unique                                                top  \\\n",
       "Job_Name     1048    693                                       Data Analyst   \n",
       "Company      1048    520                                 Accenture in India   \n",
       "Job_type     1048      3                                            On-site   \n",
       "Employees    1048      9                                  10,001+ employees   \n",
       "Followers    1048    932                                              8734    \n",
       "Applicant    1048    206  1 month ago                                  O...   \n",
       "Industry     1048     66                  Information Technology & Services   \n",
       "Invovlement  1048     20                       Full-time · Mid-Senior level   \n",
       "City         1048     93                                          Bengaluru   \n",
       "state        1048     26                                    Karnataka India   \n",
       "\n",
       "            freq  \n",
       "Job_Name      62  \n",
       "Company       50  \n",
       "Job_type     676  \n",
       "Employees    539  \n",
       "Followers      9  \n",
       "Applicant     31  \n",
       "Industry     396  \n",
       "Invovlement  488  \n",
       "City         271  \n",
       "state        386  "
      ]
     },
     "execution_count": 149,
     "metadata": {},
     "output_type": "execute_result"
    }
   ],
   "source": [
    "link1.describe().T     "
   ]
  },
  {
   "cell_type": "code",
   "execution_count": 150,
   "id": "a60519b7",
   "metadata": {
    "ExecuteTime": {
     "end_time": "2023-04-17T04:20:36.198839Z",
     "start_time": "2023-04-17T04:20:36.185717Z"
    }
   },
   "outputs": [
    {
     "data": {
      "text/html": [
       "<style type=\"text/css\">\n",
       "#T_7ba93_row0_col0 {\n",
       "  background-color: #08306b;\n",
       "  color: #f1f1f1;\n",
       "}\n",
       "#T_7ba93_row1_col0 {\n",
       "  background-color: #9ac8e0;\n",
       "  color: #000000;\n",
       "}\n",
       "#T_7ba93_row2_col0 {\n",
       "  background-color: #b8d5ea;\n",
       "  color: #000000;\n",
       "}\n",
       "#T_7ba93_row3_col0 {\n",
       "  background-color: #caddf0;\n",
       "  color: #000000;\n",
       "}\n",
       "#T_7ba93_row4_col0 {\n",
       "  background-color: #d6e5f4;\n",
       "  color: #000000;\n",
       "}\n",
       "#T_7ba93_row5_col0 {\n",
       "  background-color: #e7f1fa;\n",
       "  color: #000000;\n",
       "}\n",
       "#T_7ba93_row6_col0 {\n",
       "  background-color: #ecf4fb;\n",
       "  color: #000000;\n",
       "}\n",
       "#T_7ba93_row7_col0 {\n",
       "  background-color: #f1f7fd;\n",
       "  color: #000000;\n",
       "}\n",
       "#T_7ba93_row8_col0 {\n",
       "  background-color: #f2f7fd;\n",
       "  color: #000000;\n",
       "}\n",
       "#T_7ba93_row9_col0 {\n",
       "  background-color: #f7fbff;\n",
       "  color: #000000;\n",
       "}\n",
       "</style>\n",
       "<table id=\"T_7ba93\">\n",
       "  <caption>Most Demand Company</caption>\n",
       "  <thead>\n",
       "    <tr>\n",
       "      <th class=\"blank level0\" >&nbsp;</th>\n",
       "      <th id=\"T_7ba93_level0_col0\" class=\"col_heading level0 col0\" >City</th>\n",
       "    </tr>\n",
       "  </thead>\n",
       "  <tbody>\n",
       "    <tr>\n",
       "      <th id=\"T_7ba93_level0_row0\" class=\"row_heading level0 row0\" >Bengaluru</th>\n",
       "      <td id=\"T_7ba93_row0_col0\" class=\"data row0 col0\" >271</td>\n",
       "    </tr>\n",
       "    <tr>\n",
       "      <th id=\"T_7ba93_level0_row1\" class=\"row_heading level0 row1\" >Mumbai</th>\n",
       "      <td id=\"T_7ba93_row1_col0\" class=\"data row1 col0\" >116</td>\n",
       "    </tr>\n",
       "    <tr>\n",
       "      <th id=\"T_7ba93_level0_row2\" class=\"row_heading level0 row2\" >Hyderabad</th>\n",
       "      <td id=\"T_7ba93_row2_col0\" class=\"data row2 col0\" >93</td>\n",
       "    </tr>\n",
       "    <tr>\n",
       "      <th id=\"T_7ba93_level0_row3\" class=\"row_heading level0 row3\" >Pune</th>\n",
       "      <td id=\"T_7ba93_row3_col0\" class=\"data row3 col0\" >78</td>\n",
       "    </tr>\n",
       "    <tr>\n",
       "      <th id=\"T_7ba93_level0_row4\" class=\"row_heading level0 row4\" >Chennai</th>\n",
       "      <td id=\"T_7ba93_row4_col0\" class=\"data row4 col0\" >62</td>\n",
       "    </tr>\n",
       "    <tr>\n",
       "      <th id=\"T_7ba93_level0_row5\" class=\"row_heading level0 row5\" >Gurgaon</th>\n",
       "      <td id=\"T_7ba93_row5_col0\" class=\"data row5 col0\" >39</td>\n",
       "    </tr>\n",
       "    <tr>\n",
       "      <th id=\"T_7ba93_level0_row6\" class=\"row_heading level0 row6\" >India</th>\n",
       "      <td id=\"T_7ba93_row6_col0\" class=\"data row6 col0\" >33</td>\n",
       "    </tr>\n",
       "    <tr>\n",
       "      <th id=\"T_7ba93_level0_row7\" class=\"row_heading level0 row7\" >Bengaluru East</th>\n",
       "      <td id=\"T_7ba93_row7_col0\" class=\"data row7 col0\" >27</td>\n",
       "    </tr>\n",
       "    <tr>\n",
       "      <th id=\"T_7ba93_level0_row8\" class=\"row_heading level0 row8\" >Noida</th>\n",
       "      <td id=\"T_7ba93_row8_col0\" class=\"data row8 col0\" >26</td>\n",
       "    </tr>\n",
       "    <tr>\n",
       "      <th id=\"T_7ba93_level0_row9\" class=\"row_heading level0 row9\" >Gurugram</th>\n",
       "      <td id=\"T_7ba93_row9_col0\" class=\"data row9 col0\" >19</td>\n",
       "    </tr>\n",
       "  </tbody>\n",
       "</table>\n"
      ],
      "text/plain": [
       "<pandas.io.formats.style.Styler at 0x2a0bd05ad90>"
      ]
     },
     "execution_count": 150,
     "metadata": {},
     "output_type": "execute_result"
    }
   ],
   "source": [
    "link1['City'].value_counts().head(10).to_frame().style.set_caption('Most Demand Company').background_gradient(cmap='Blues')"
   ]
  },
  {
   "cell_type": "code",
   "execution_count": 151,
   "id": "2fa013cd",
   "metadata": {
    "ExecuteTime": {
     "end_time": "2023-04-17T04:20:36.217366Z",
     "start_time": "2023-04-17T04:20:36.201027Z"
    }
   },
   "outputs": [
    {
     "data": {
      "text/html": [
       "<style type=\"text/css\">\n",
       "#T_90e5b_row0_col0 {\n",
       "  background-color: #08306b;\n",
       "  color: #f1f1f1;\n",
       "}\n",
       "#T_90e5b_row1_col0 {\n",
       "  background-color: #77b5d9;\n",
       "  color: #000000;\n",
       "}\n",
       "#T_90e5b_row2_col0 {\n",
       "  background-color: #ccdff1;\n",
       "  color: #000000;\n",
       "}\n",
       "#T_90e5b_row3_col0, #T_90e5b_row4_col0 {\n",
       "  background-color: #d6e6f4;\n",
       "  color: #000000;\n",
       "}\n",
       "#T_90e5b_row5_col0, #T_90e5b_row6_col0 {\n",
       "  background-color: #dce9f6;\n",
       "  color: #000000;\n",
       "}\n",
       "#T_90e5b_row7_col0 {\n",
       "  background-color: #e1edf8;\n",
       "  color: #000000;\n",
       "}\n",
       "#T_90e5b_row8_col0, #T_90e5b_row9_col0 {\n",
       "  background-color: #f7fbff;\n",
       "  color: #000000;\n",
       "}\n",
       "</style>\n",
       "<table id=\"T_90e5b\">\n",
       "  <caption>Most Demand Company</caption>\n",
       "  <thead>\n",
       "    <tr>\n",
       "      <th class=\"blank level0\" >&nbsp;</th>\n",
       "      <th id=\"T_90e5b_level0_col0\" class=\"col_heading level0 col0\" >Company</th>\n",
       "    </tr>\n",
       "  </thead>\n",
       "  <tbody>\n",
       "    <tr>\n",
       "      <th id=\"T_90e5b_level0_row0\" class=\"row_heading level0 row0\" >Accenture in India</th>\n",
       "      <td id=\"T_90e5b_row0_col0\" class=\"data row0 col0\" >50</td>\n",
       "    </tr>\n",
       "    <tr>\n",
       "      <th id=\"T_90e5b_level0_row1\" class=\"row_heading level0 row1\" >Wells Fargo</th>\n",
       "      <td id=\"T_90e5b_row1_col0\" class=\"data row1 col0\" >31</td>\n",
       "    </tr>\n",
       "    <tr>\n",
       "      <th id=\"T_90e5b_level0_row2\" class=\"row_heading level0 row2\" >EY</th>\n",
       "      <td id=\"T_90e5b_row2_col0\" class=\"data row2 col0\" >22</td>\n",
       "    </tr>\n",
       "    <tr>\n",
       "      <th id=\"T_90e5b_level0_row3\" class=\"row_heading level0 row3\" >BNY Mellon</th>\n",
       "      <td id=\"T_90e5b_row3_col0\" class=\"data row3 col0\" >20</td>\n",
       "    </tr>\n",
       "    <tr>\n",
       "      <th id=\"T_90e5b_level0_row4\" class=\"row_heading level0 row4\" >Citi</th>\n",
       "      <td id=\"T_90e5b_row4_col0\" class=\"data row4 col0\" >20</td>\n",
       "    </tr>\n",
       "    <tr>\n",
       "      <th id=\"T_90e5b_level0_row5\" class=\"row_heading level0 row5\" >Tata Consultancy Services</th>\n",
       "      <td id=\"T_90e5b_row5_col0\" class=\"data row5 col0\" >19</td>\n",
       "    </tr>\n",
       "    <tr>\n",
       "      <th id=\"T_90e5b_level0_row6\" class=\"row_heading level0 row6\" >Infosys</th>\n",
       "      <td id=\"T_90e5b_row6_col0\" class=\"data row6 col0\" >19</td>\n",
       "    </tr>\n",
       "    <tr>\n",
       "      <th id=\"T_90e5b_level0_row7\" class=\"row_heading level0 row7\" >UST</th>\n",
       "      <td id=\"T_90e5b_row7_col0\" class=\"data row7 col0\" >18</td>\n",
       "    </tr>\n",
       "    <tr>\n",
       "      <th id=\"T_90e5b_level0_row8\" class=\"row_heading level0 row8\" >S&P Global</th>\n",
       "      <td id=\"T_90e5b_row8_col0\" class=\"data row8 col0\" >14</td>\n",
       "    </tr>\n",
       "    <tr>\n",
       "      <th id=\"T_90e5b_level0_row9\" class=\"row_heading level0 row9\" >HCLTech</th>\n",
       "      <td id=\"T_90e5b_row9_col0\" class=\"data row9 col0\" >14</td>\n",
       "    </tr>\n",
       "  </tbody>\n",
       "</table>\n"
      ],
      "text/plain": [
       "<pandas.io.formats.style.Styler at 0x2a0bcb2f760>"
      ]
     },
     "execution_count": 151,
     "metadata": {},
     "output_type": "execute_result"
    }
   ],
   "source": [
    "link1['Company'].value_counts().head(10).to_frame().style.set_caption('Most Demand Company').background_gradient(cmap='Blues')"
   ]
  },
  {
   "cell_type": "code",
   "execution_count": 152,
   "id": "bdabc289",
   "metadata": {
    "ExecuteTime": {
     "end_time": "2023-04-17T04:20:36.232641Z",
     "start_time": "2023-04-17T04:20:36.219852Z"
    }
   },
   "outputs": [
    {
     "data": {
      "text/html": [
       "<style type=\"text/css\">\n",
       "#T_8ee95_row0_col0 {\n",
       "  background-color: #08306b;\n",
       "  color: #f1f1f1;\n",
       "}\n",
       "#T_8ee95_row1_col0 {\n",
       "  background-color: #e2edf8;\n",
       "  color: #000000;\n",
       "}\n",
       "#T_8ee95_row2_col0 {\n",
       "  background-color: #e6f0f9;\n",
       "  color: #000000;\n",
       "}\n",
       "#T_8ee95_row3_col0, #T_8ee95_row4_col0, #T_8ee95_row5_col0, #T_8ee95_row6_col0, #T_8ee95_row7_col0 {\n",
       "  background-color: #f4f9fe;\n",
       "  color: #000000;\n",
       "}\n",
       "#T_8ee95_row8_col0, #T_8ee95_row9_col0 {\n",
       "  background-color: #f7fbff;\n",
       "  color: #000000;\n",
       "}\n",
       "</style>\n",
       "<table id=\"T_8ee95\">\n",
       "  <caption>Most Demand Company</caption>\n",
       "  <thead>\n",
       "    <tr>\n",
       "      <th class=\"blank level0\" >&nbsp;</th>\n",
       "      <th id=\"T_8ee95_level0_col0\" class=\"col_heading level0 col0\" >Job_Name</th>\n",
       "    </tr>\n",
       "  </thead>\n",
       "  <tbody>\n",
       "    <tr>\n",
       "      <th id=\"T_8ee95_level0_row0\" class=\"row_heading level0 row0\" >Data Analyst</th>\n",
       "      <td id=\"T_8ee95_row0_col0\" class=\"data row0 col0\" >62</td>\n",
       "    </tr>\n",
       "    <tr>\n",
       "      <th id=\"T_8ee95_level0_row1\" class=\"row_heading level0 row1\" >Senior Data Analyst</th>\n",
       "      <td id=\"T_8ee95_row1_col0\" class=\"data row1 col0\" >12</td>\n",
       "    </tr>\n",
       "    <tr>\n",
       "      <th id=\"T_8ee95_level0_row2\" class=\"row_heading level0 row2\" >Senior Analytics Consultant</th>\n",
       "      <td id=\"T_8ee95_row2_col0\" class=\"data row2 col0\" >11</td>\n",
       "    </tr>\n",
       "    <tr>\n",
       "      <th id=\"T_8ee95_level0_row3\" class=\"row_heading level0 row3\" >Senior Software Engineer</th>\n",
       "      <td id=\"T_8ee95_row3_col0\" class=\"data row3 col0\" >7</td>\n",
       "    </tr>\n",
       "    <tr>\n",
       "      <th id=\"T_8ee95_level0_row4\" class=\"row_heading level0 row4\" >EAPUData Analyst PU OTStaff</th>\n",
       "      <td id=\"T_8ee95_row4_col0\" class=\"data row4 col0\" >7</td>\n",
       "    </tr>\n",
       "    <tr>\n",
       "      <th id=\"T_8ee95_level0_row5\" class=\"row_heading level0 row5\" >Customer Service New AssociateQuery Management</th>\n",
       "      <td id=\"T_8ee95_row5_col0\" class=\"data row5 col0\" >7</td>\n",
       "    </tr>\n",
       "    <tr>\n",
       "      <th id=\"T_8ee95_level0_row6\" class=\"row_heading level0 row6\" >Lead II  Data Analysis</th>\n",
       "      <td id=\"T_8ee95_row6_col0\" class=\"data row6 col0\" >7</td>\n",
       "    </tr>\n",
       "    <tr>\n",
       "      <th id=\"T_8ee95_level0_row7\" class=\"row_heading level0 row7\" >Lead Data Analyst</th>\n",
       "      <td id=\"T_8ee95_row7_col0\" class=\"data row7 col0\" >7</td>\n",
       "    </tr>\n",
       "    <tr>\n",
       "      <th id=\"T_8ee95_level0_row8\" class=\"row_heading level0 row8\" >InBusiness Credit Risk Quality Assurance Data Analyst for Wealth Management</th>\n",
       "      <td id=\"T_8ee95_row8_col0\" class=\"data row8 col0\" >6</td>\n",
       "    </tr>\n",
       "    <tr>\n",
       "      <th id=\"T_8ee95_level0_row9\" class=\"row_heading level0 row9\" >Senior Data AnalystData Modellers</th>\n",
       "      <td id=\"T_8ee95_row9_col0\" class=\"data row9 col0\" >6</td>\n",
       "    </tr>\n",
       "  </tbody>\n",
       "</table>\n"
      ],
      "text/plain": [
       "<pandas.io.formats.style.Styler at 0x2a0bbba36d0>"
      ]
     },
     "execution_count": 152,
     "metadata": {},
     "output_type": "execute_result"
    }
   ],
   "source": [
    "link1['Job_Name'].value_counts().head(10).to_frame().style.set_caption('Most Demand Company').background_gradient(cmap='Blues')"
   ]
  },
  {
   "cell_type": "markdown",
   "id": "b44938c2",
   "metadata": {
    "ExecuteTime": {
     "end_time": "2023-04-08T07:08:15.658211Z",
     "start_time": "2023-04-08T07:08:15.650078Z"
    }
   },
   "source": [
    "####  BAR plot visualization"
   ]
  },
  {
   "cell_type": "code",
   "execution_count": 153,
   "id": "e424f9a1",
   "metadata": {
    "ExecuteTime": {
     "end_time": "2023-04-17T04:20:36.649832Z",
     "start_time": "2023-04-17T04:20:36.239890Z"
    }
   },
   "outputs": [
    {
     "data": {
      "text/plain": [
       "DeltaGenerator(_root_container=0, _provided_cursor=None, _parent=None, _block_type=None, _form_data=None)"
      ]
     },
     "execution_count": 153,
     "metadata": {},
     "output_type": "execute_result"
    },
    {
     "data": {
      "image/png": "[encoded data removed]",
      "text/plain": [
       "<Figure size 640x480 with 1 Axes>"
      ]
     },
     "metadata": {},
     "output_type": "display_data"
    }
   ],
   "source": [
    "import matplotlib.pyplot as plt\n",
    "import seaborn as sns\n",
    "\n",
    "import matplotlib.pyplot as plt\n",
    "import seaborn as sns\n",
    "import streamlit as st\n",
    "\n",
    "\n",
    "fig, ax = plt.subplots(nrows=1, ncols=1)\n",
    "a = sns.barplot(x=link1[\"Company\"].value_counts().sort_values(ascending=False).head(10).index, y=link1[\"Company\"].value_counts().sort_values(ascending=False).head(10), ax=ax)\n",
    "\n",
    "sns.despine(bottom=False, left=False)\n",
    "\n",
    "spots = link1[\"Company\"].value_counts().sort_values(ascending=False).index[0:10]\n",
    "for p in a.patches:\n",
    "    a.annotate('{:.2f}%'.format((p.get_height() / 742) * 100), (p.get_x() + 0.2, p.get_height() + 1), fontsize=12)\n",
    "\n",
    "plt.title('\\n Top 10 Companies with Maximum Number of Job Postings \\n', size=16, color='black')\n",
    "plt.xticks(fontsize=13, rotation=90)\n",
    "plt.yticks(fontsize=12)\n",
    "plt.xlabel('\\n Company name \\n', fontsize=13, color='black')\n",
    "plt.ylabel('\\n Count \\n', fontsize=13, color='black')\n",
    "\n",
    "st.pyplot(fig)\n"
   ]
  },
  {
   "cell_type": "markdown",
   "id": "e4e695dc",
   "metadata": {
    "ExecuteTime": {
     "end_time": "2023-04-08T07:09:22.253541Z",
     "start_time": "2023-04-08T07:09:22.237966Z"
    }
   },
   "source": [
    "#### PIE CHART VISUALIZATION"
   ]
  },
  {
   "cell_type": "code",
   "execution_count": 154,
   "id": "f8c9760a",
   "metadata": {
    "ExecuteTime": {
     "end_time": "2023-04-17T04:20:36.806733Z",
     "start_time": "2023-04-17T04:20:36.653094Z"
    }
   },
   "outputs": [
    {
     "data": {
      "image/png": "[encoded data removed]",
      "text/plain": [
       "<Figure size 700x700 with 1 Axes>"
      ]
     },
     "metadata": {},
     "output_type": "display_data"
    }
   ],
   "source": [
    "link1['Job_Name'].value_counts()[:5].plot(kind = 'pie',autopct='%1.1f%%',startangle=180,shadow=True ,explode = [0.1,0,0,0,0])\n",
    "fig=plt.gcf()\n",
    "fig.set_size_inches(7,7)\n",
    "plt.show()"
   ]
  },
  {
   "cell_type": "code",
   "execution_count": 155,
   "id": "9ec8e077",
   "metadata": {
    "ExecuteTime": {
     "end_time": "2023-04-17T04:20:36.882262Z",
     "start_time": "2023-04-17T04:20:36.811944Z"
    }
   },
   "outputs": [
    {
     "data": {
      "image/png": "[encoded data removed]",
      "text/plain": [
       "<Figure size 700x700 with 1 Axes>"
      ]
     },
     "metadata": {},
     "output_type": "display_data"
    }
   ],
   "source": [
    "link1['Company'].value_counts()[:5].plot(kind = 'pie',autopct='%1.1f%%',startangle=180,shadow=True ,explode = [0.1,0,0,0,0])\n",
    "fig=plt.gcf()\n",
    "fig.set_size_inches(7,7)\n",
    "plt.show()"
   ]
  },
  {
   "cell_type": "code",
   "execution_count": 156,
   "id": "3d51df68",
   "metadata": {
    "ExecuteTime": {
     "end_time": "2023-04-17T04:20:37.013311Z",
     "start_time": "2023-04-17T04:20:36.885454Z"
    }
   },
   "outputs": [
    {
     "data": {
      "image/png": "[encoded data removed]",
      "text/plain": [
       "<Figure size 700x700 with 1 Axes>"
      ]
     },
     "metadata": {},
     "output_type": "display_data"
    }
   ],
   "source": [
    "link1['City'].value_counts()[:5].plot(kind = 'pie',autopct='%1.1f%%',startangle=180,shadow=True ,explode = [0.1,0,0,0,0])\n",
    "fig=plt.gcf()\n",
    "fig.set_size_inches(7,7)\n",
    "plt.show()"
   ]
  },
  {
   "cell_type": "code",
   "execution_count": 157,
   "id": "7b70214f",
   "metadata": {
    "ExecuteTime": {
     "end_time": "2023-04-17T04:20:37.148933Z",
     "start_time": "2023-04-17T04:20:37.016279Z"
    }
   },
   "outputs": [
    {
     "data": {
      "image/png": "[encoded data removed]",
      "text/plain": [
       "<Figure size 700x700 with 1 Axes>"
      ]
     },
     "metadata": {},
     "output_type": "display_data"
    }
   ],
   "source": [
    "link1['Invovlement'].value_counts()[:5].plot(kind = 'pie',autopct='%1.1f%%',startangle=180,shadow=True ,explode = [0.1,0,0,0,0])\n",
    "fig=plt.gcf()\n",
    "fig.set_size_inches(7,7)\n",
    "plt.show()"
   ]
  },
  {
   "cell_type": "code",
   "execution_count": 158,
   "id": "22a48d40",
   "metadata": {
    "ExecuteTime": {
     "end_time": "2023-04-17T04:20:37.355860Z",
     "start_time": "2023-04-17T04:20:37.151982Z"
    }
   },
   "outputs": [
    {
     "data": {
      "image/png": "[encoded data removed]",
      "text/plain": [
       "<Figure size 700x700 with 1 Axes>"
      ]
     },
     "metadata": {},
     "output_type": "display_data"
    }
   ],
   "source": [
    "link1['Industry'].value_counts()[:5].plot(kind = 'pie',autopct='%1.1f%%',startangle=180,shadow=True ,explode = [0.1,0,0,0,0])\n",
    "fig=plt.gcf()\n",
    "fig.set_size_inches(7,7)\n",
    "plt.show()"
   ]
  },
  {
   "cell_type": "markdown",
   "id": "2e509148",
   "metadata": {},
   "source": [
    "# Model building "
   ]
  },
  {
   "cell_type": "code",
   "execution_count": 159,
   "id": "4827c67a",
   "metadata": {
    "ExecuteTime": {
     "end_time": "2023-04-17T04:20:37.370065Z",
     "start_time": "2023-04-17T04:20:37.360668Z"
    }
   },
   "outputs": [],
   "source": [
    "#importing libraries for content-based recommendation.\n",
    "import ast \n",
    "from scipy import stats\n",
    "from ast import literal_eval\n",
    "from sklearn.feature_extraction.text import TfidfVectorizer, CountVectorizer\n",
    "from sklearn.metrics.pairwise import linear_kernel, cosine_similarity\n",
    "import warnings"
   ]
  },
  {
   "cell_type": "code",
   "execution_count": 160,
   "id": "b1334210",
   "metadata": {
    "ExecuteTime": {
     "end_time": "2023-04-17T04:20:37.386080Z",
     "start_time": "2023-04-17T04:20:37.373020Z"
    }
   },
   "outputs": [
    {
     "data": {
      "text/html": [
       "<div>\n",
       "<style scoped>\n",
       "    .dataframe tbody tr th:only-of-type {\n",
       "        vertical-align: middle;\n",
       "    }\n",
       "\n",
       "    .dataframe tbody tr th {\n",
       "        vertical-align: top;\n",
       "    }\n",
       "\n",
       "    .dataframe thead th {\n",
       "        text-align: right;\n",
       "    }\n",
       "</style>\n",
       "<table border=\"1\" class=\"dataframe\">\n",
       "  <thead>\n",
       "    <tr style=\"text-align: right;\">\n",
       "      <th></th>\n",
       "      <th>Job_Name</th>\n",
       "      <th>Company</th>\n",
       "      <th>Job_type</th>\n",
       "      <th>Employees</th>\n",
       "      <th>Followers</th>\n",
       "      <th>Applicant</th>\n",
       "      <th>Industry</th>\n",
       "      <th>Invovlement</th>\n",
       "      <th>City</th>\n",
       "      <th>state</th>\n",
       "    </tr>\n",
       "  </thead>\n",
       "  <tbody>\n",
       "    <tr>\n",
       "      <th>0</th>\n",
       "      <td>Client Technology Platform Engineering Senior ...</td>\n",
       "      <td>EY</td>\n",
       "      <td>On-site</td>\n",
       "      <td>10,001+ employees</td>\n",
       "      <td>7366377</td>\n",
       "      <td>9</td>\n",
       "      <td>Information Technology &amp; Services</td>\n",
       "      <td>Full-time · Mid-Senior level</td>\n",
       "      <td>Trivandrum</td>\n",
       "      <td>Kerala India</td>\n",
       "    </tr>\n",
       "    <tr>\n",
       "      <th>1</th>\n",
       "      <td>Associate  Global Intelligence Open Source Col...</td>\n",
       "      <td>JPMorgan Chase &amp; Co.</td>\n",
       "      <td>On-site</td>\n",
       "      <td>10,001+ employees</td>\n",
       "      <td>3791093</td>\n",
       "      <td>10</td>\n",
       "      <td>Financial Services</td>\n",
       "      <td>Full-time</td>\n",
       "      <td>Mumbai</td>\n",
       "      <td>Maharashtra India</td>\n",
       "    </tr>\n",
       "    <tr>\n",
       "      <th>2</th>\n",
       "      <td>MTS Software Development Eng</td>\n",
       "      <td>AMD</td>\n",
       "      <td>On-site</td>\n",
       "      <td>10,001+ employees</td>\n",
       "      <td>1068681</td>\n",
       "      <td>41</td>\n",
       "      <td>Semiconductors</td>\n",
       "      <td>Full-time · Mid-Senior level</td>\n",
       "      <td>Bengaluru</td>\n",
       "      <td>Karnataka India</td>\n",
       "    </tr>\n",
       "    <tr>\n",
       "      <th>3</th>\n",
       "      <td>Tech Lead  Wifi Development</td>\n",
       "      <td>VVDN Technologies</td>\n",
       "      <td>On-site</td>\n",
       "      <td>10,001+ employees</td>\n",
       "      <td>62010</td>\n",
       "      <td>13</td>\n",
       "      <td>Information Technology &amp; Services</td>\n",
       "      <td>Full-time · Mid-Senior level</td>\n",
       "      <td>Chennai</td>\n",
       "      <td>Tamil Nadu India</td>\n",
       "    </tr>\n",
       "    <tr>\n",
       "      <th>4</th>\n",
       "      <td>Senior Application Specialist</td>\n",
       "      <td>Leica Biosystems</td>\n",
       "      <td>On-site</td>\n",
       "      <td>1,001-5,000 employees</td>\n",
       "      <td>86924</td>\n",
       "      <td>78</td>\n",
       "      <td>Medical Device</td>\n",
       "      <td>Full-time</td>\n",
       "      <td>Mumbai</td>\n",
       "      <td>Maharashtra India</td>\n",
       "    </tr>\n",
       "  </tbody>\n",
       "</table>\n",
       "</div>"
      ],
      "text/plain": [
       "                                            Job_Name               Company  \\\n",
       "0  Client Technology Platform Engineering Senior ...                    EY   \n",
       "1  Associate  Global Intelligence Open Source Col...  JPMorgan Chase & Co.   \n",
       "2                       MTS Software Development Eng                   AMD   \n",
       "3                        Tech Lead  Wifi Development     VVDN Technologies   \n",
       "4                      Senior Application Specialist      Leica Biosystems   \n",
       "\n",
       "  Job_type              Employees Followers Applicant  \\\n",
       "0  On-site      10,001+ employees  7366377         9    \n",
       "1  On-site      10,001+ employees  3791093        10    \n",
       "2  On-site      10,001+ employees  1068681        41    \n",
       "3  On-site      10,001+ employees    62010        13    \n",
       "4  On-site  1,001-5,000 employees    86924        78    \n",
       "\n",
       "                            Industry                   Invovlement  \\\n",
       "0  Information Technology & Services  Full-time · Mid-Senior level   \n",
       "1                 Financial Services                     Full-time   \n",
       "2                     Semiconductors  Full-time · Mid-Senior level   \n",
       "3  Information Technology & Services  Full-time · Mid-Senior level   \n",
       "4                     Medical Device                     Full-time   \n",
       "\n",
       "         City              state  \n",
       "0  Trivandrum       Kerala India  \n",
       "1      Mumbai  Maharashtra India  \n",
       "2   Bengaluru    Karnataka India  \n",
       "3     Chennai   Tamil Nadu India  \n",
       "4      Mumbai  Maharashtra India  "
      ]
     },
     "execution_count": 160,
     "metadata": {},
     "output_type": "execute_result"
    }
   ],
   "source": [
    "link1.head()"
   ]
  },
  {
   "cell_type": "code",
   "execution_count": 161,
   "id": "158ae81e",
   "metadata": {
    "ExecuteTime": {
     "end_time": "2023-04-17T04:20:37.403668Z",
     "start_time": "2023-04-17T04:20:37.389368Z"
    }
   },
   "outputs": [],
   "source": [
    "link1_copy=link1"
   ]
  },
  {
   "cell_type": "code",
   "execution_count": 162,
   "id": "f2d193b8",
   "metadata": {
    "ExecuteTime": {
     "end_time": "2023-04-17T04:20:37.419397Z",
     "start_time": "2023-04-17T04:20:37.403668Z"
    }
   },
   "outputs": [],
   "source": [
    "link1_copy = link1.reset_index(drop=True).copy()"
   ]
  },
  {
   "cell_type": "code",
   "execution_count": 163,
   "id": "634b6ea7",
   "metadata": {
    "ExecuteTime": {
     "end_time": "2023-04-17T04:20:37.434951Z",
     "start_time": "2023-04-17T04:20:37.420317Z"
    }
   },
   "outputs": [],
   "source": [
    "link1_copy.loc[:, 'Job_Name'] = link1_copy['Job_Name'].fillna('')\n",
    "link1_copy.loc[:, 'City'] = link1_copy['City'].fillna('')\n",
    "link1_copy.loc[:, 'Description'] = link1_copy['Job_Name'] + link1_copy['City']  "
   ]
  },
  {
   "cell_type": "code",
   "execution_count": 164,
   "id": "5a11e1fb",
   "metadata": {
    "ExecuteTime": {
     "end_time": "2023-04-17T04:20:37.452841Z",
     "start_time": "2023-04-17T04:20:37.436827Z"
    }
   },
   "outputs": [],
   "source": [
    "from sklearn.feature_extraction.text import TfidfVectorizer\n",
    "\n",
    "\n",
    "tfv = TfidfVectorizer(min_df=0,  max_features=None, \n",
    "            strip_accents='unicode', analyzer='word',token_pattern=r'\\w{1,}',\n",
    "            ngram_range=(1, 2),\n",
    "            stop_words = 'english')\n",
    "\n",
    " "
   ]
  },
  {
   "cell_type": "code",
   "execution_count": 165,
   "id": "610a9252",
   "metadata": {
    "ExecuteTime": {
     "end_time": "2023-04-17T04:20:37.492001Z",
     "start_time": "2023-04-17T04:20:37.453769Z"
    }
   },
   "outputs": [],
   "source": [
    "# Fitting the TF-IDF on the 'Job_name' text\n",
    "tfv_matrix = tfv.fit_transform(link1_copy['Description'])"
   ]
  },
  {
   "cell_type": "code",
   "execution_count": 166,
   "id": "a6618440",
   "metadata": {
    "ExecuteTime": {
     "end_time": "2023-04-17T04:20:37.516433Z",
     "start_time": "2023-04-17T04:20:37.497041Z"
    }
   },
   "outputs": [
    {
     "data": {
      "text/plain": [
       "<1048x2852 sparse matrix of type '<class 'numpy.float64'>'\n",
       "\twith 6869 stored elements in Compressed Sparse Row format>"
      ]
     },
     "execution_count": 166,
     "metadata": {},
     "output_type": "execute_result"
    }
   ],
   "source": [
    "tfv_matrix"
   ]
  },
  {
   "cell_type": "code",
   "execution_count": 167,
   "id": "7359d8f8",
   "metadata": {
    "ExecuteTime": {
     "end_time": "2023-04-17T04:20:37.539978Z",
     "start_time": "2023-04-17T04:20:37.520439Z"
    }
   },
   "outputs": [
    {
     "data": {
      "text/plain": [
       "(1048, 2852)"
      ]
     },
     "execution_count": 167,
     "metadata": {},
     "output_type": "execute_result"
    }
   ],
   "source": [
    "tfv_matrix.shape  "
   ]
  },
  {
   "cell_type": "code",
   "execution_count": 168,
   "id": "6878bcbf",
   "metadata": {
    "ExecuteTime": {
     "end_time": "2023-04-17T04:20:37.570605Z",
     "start_time": "2023-04-17T04:20:37.539978Z"
    }
   },
   "outputs": [],
   "source": [
    "#find the most similar words \n",
    "cosine_sim = linear_kernel(tfv_matrix, tfv_matrix)"
   ]
  },
  {
   "cell_type": "code",
   "execution_count": 169,
   "id": "6ce48569",
   "metadata": {
    "ExecuteTime": {
     "end_time": "2023-04-17T04:20:37.617150Z",
     "start_time": "2023-04-17T04:20:37.572569Z"
    }
   },
   "outputs": [],
   "source": [
    "from sklearn.metrics.pairwise import sigmoid_kernel\n",
    "\n",
    "# Compute the sigmoid kernel\n",
    "sig = sigmoid_kernel(tfv_matrix, tfv_matrix)"
   ]
  },
  {
   "cell_type": "code",
   "execution_count": 170,
   "id": "678c6d72",
   "metadata": {
    "ExecuteTime": {
     "end_time": "2023-04-17T04:20:37.632941Z",
     "start_time": "2023-04-17T04:20:37.620315Z"
    }
   },
   "outputs": [
    {
     "data": {
      "text/plain": [
       "array([0.76174137, 0.76159416, 0.76159416, ..., 0.76159786, 0.76159416,\n",
       "       0.76159416])"
      ]
     },
     "execution_count": 170,
     "metadata": {},
     "output_type": "execute_result"
    }
   ],
   "source": [
    "sig[0]"
   ]
  },
  {
   "cell_type": "code",
   "execution_count": 171,
   "id": "54933c22",
   "metadata": {
    "ExecuteTime": {
     "end_time": "2023-04-17T04:20:37.654232Z",
     "start_time": "2023-04-17T04:20:37.635942Z"
    }
   },
   "outputs": [],
   "source": [
    "#  mapping of indices and job_name\n",
    "indices = pd.Series(link1_copy.index, index=link1_copy['Job_Name']).drop_duplicates()\n"
   ]
  },
  {
   "cell_type": "code",
   "execution_count": 172,
   "id": "4de4447b",
   "metadata": {
    "ExecuteTime": {
     "end_time": "2023-04-17T04:20:37.670262Z",
     "start_time": "2023-04-17T04:20:37.654997Z"
    }
   },
   "outputs": [
    {
     "data": {
      "text/plain": [
       "Job_Name\n",
       "Client Technology Platform Engineering Senior DevOps engineer       0\n",
       "Associate  Global Intelligence Open Source Collection Cell          1\n",
       "MTS Software Development Eng                                        2\n",
       "Tech Lead  Wifi Development                                         3\n",
       "Senior Application Specialist                                       4\n",
       "                                                                 ... \n",
       "Senior Tableau Developer                                         1043\n",
       "AM AnalyticsANA007048                                            1044\n",
       "Senior Data  API Consultant                                      1045\n",
       "Staff                                                            1046\n",
       "Team LeadBig Data                                                1047\n",
       "Length: 1048, dtype: int64"
      ]
     },
     "execution_count": 172,
     "metadata": {},
     "output_type": "execute_result"
    }
   ],
   "source": [
    "indices"
   ]
  },
  {
   "cell_type": "code",
   "execution_count": 173,
   "id": "0d0ef6b2",
   "metadata": {
    "ExecuteTime": {
     "end_time": "2023-04-17T04:20:37.687614Z",
     "start_time": "2023-04-17T04:20:37.673261Z"
    }
   },
   "outputs": [],
   "source": [
    "\n",
    "# Define a function to get job recommendations\n",
    "def get_recommendations(title):\n",
    "    idx = indices[title]\n",
    "    sim_scores = list(enumerate(cosine_sim[idx]))\n",
    "    sim_scores = sorted(sim_scores, key=lambda x: x[1], reverse=True)\n",
    "    job_indices = [i[0] for i in sim_scores]\n",
    "    return link1_copy['Job_Name'].iloc[job_indices]\n",
    "\n"
   ]
  },
  {
   "cell_type": "code",
   "execution_count": 174,
   "id": "6fadfa6e",
   "metadata": {
    "ExecuteTime": {
     "end_time": "2023-04-17T04:20:37.718819Z",
     "start_time": "2023-04-17T04:20:37.700528Z"
    }
   },
   "outputs": [
    {
     "name": "stdout",
     "output_type": "stream",
     "text": [
      "4             Senior Application Specialist\n",
      "540             Technology Sales Specialist\n",
      "646               Solution Sales Specialist\n",
      "47                    Application Engineers\n",
      "651          Datacenter Presales Specialist\n",
      "                       ...                 \n",
      "1041                Teradata Operations DBA\n",
      "1042    DRAM Controller Verification Leader\n",
      "1044                  AM AnalyticsANA007048\n",
      "1046                                  Staff\n",
      "1047                      Team LeadBig Data\n",
      "Name: Job_Name, Length: 1048, dtype: object\n"
     ]
    }
   ],
   "source": [
    "# Test the recommendation function\n",
    "print(get_recommendations('Senior Application Specialist'))  \n"
   ]
  },
  {
   "cell_type": "code",
   "execution_count": 175,
   "id": "7c4c4661",
   "metadata": {
    "ExecuteTime": {
     "end_time": "2023-04-17T04:20:37.738141Z",
     "start_time": "2023-04-17T04:20:37.720963Z"
    }
   },
   "outputs": [
    {
     "name": "stdout",
     "output_type": "stream",
     "text": [
      "2           MTS Software Development Eng\n",
      "815     Sr Software Development Engineer\n",
      "839          MTS Silicon Design Engineer\n",
      "58        Business Development Executive\n",
      "724       Business Development Executive\n",
      "                      ...               \n",
      "1043            Senior Tableau Developer\n",
      "1044               AM AnalyticsANA007048\n",
      "1045         Senior Data  API Consultant\n",
      "1046                               Staff\n",
      "1047                   Team LeadBig Data\n",
      "Name: Job_Name, Length: 1048, dtype: object\n"
     ]
    }
   ],
   "source": [
    "# Test the recommendation function\n",
    "print(get_recommendations('MTS Software Development Eng'))    "
   ]
  },
  {
   "cell_type": "code",
   "execution_count": 176,
   "id": "dbf23102",
   "metadata": {
    "ExecuteTime": {
     "end_time": "2023-04-17T04:20:37.753982Z",
     "start_time": "2023-04-17T04:20:37.738403Z"
    }
   },
   "outputs": [],
   "source": [
    "job_data =link1_copy"
   ]
  },
  {
   "cell_type": "code",
   "execution_count": 177,
   "id": "e9bab54f",
   "metadata": {
    "ExecuteTime": {
     "end_time": "2023-04-17T04:20:37.786306Z",
     "start_time": "2023-04-17T04:20:37.754148Z"
    }
   },
   "outputs": [
    {
     "data": {
      "text/html": [
       "<div>\n",
       "<style scoped>\n",
       "    .dataframe tbody tr th:only-of-type {\n",
       "        vertical-align: middle;\n",
       "    }\n",
       "\n",
       "    .dataframe tbody tr th {\n",
       "        vertical-align: top;\n",
       "    }\n",
       "\n",
       "    .dataframe thead th {\n",
       "        text-align: right;\n",
       "    }\n",
       "</style>\n",
       "<table border=\"1\" class=\"dataframe\">\n",
       "  <thead>\n",
       "    <tr style=\"text-align: right;\">\n",
       "      <th></th>\n",
       "      <th>Job_Name</th>\n",
       "      <th>Company</th>\n",
       "      <th>Job_type</th>\n",
       "      <th>Employees</th>\n",
       "      <th>Followers</th>\n",
       "      <th>Applicant</th>\n",
       "      <th>Industry</th>\n",
       "      <th>Invovlement</th>\n",
       "      <th>City</th>\n",
       "      <th>state</th>\n",
       "      <th>Description</th>\n",
       "    </tr>\n",
       "  </thead>\n",
       "  <tbody>\n",
       "    <tr>\n",
       "      <th>0</th>\n",
       "      <td>Client Technology Platform Engineering Senior ...</td>\n",
       "      <td>EY</td>\n",
       "      <td>On-site</td>\n",
       "      <td>10,001+ employees</td>\n",
       "      <td>7366377</td>\n",
       "      <td>9</td>\n",
       "      <td>Information Technology &amp; Services</td>\n",
       "      <td>Full-time · Mid-Senior level</td>\n",
       "      <td>Trivandrum</td>\n",
       "      <td>Kerala India</td>\n",
       "      <td>Client Technology Platform Engineering Senior ...</td>\n",
       "    </tr>\n",
       "    <tr>\n",
       "      <th>1</th>\n",
       "      <td>Associate  Global Intelligence Open Source Col...</td>\n",
       "      <td>JPMorgan Chase &amp; Co.</td>\n",
       "      <td>On-site</td>\n",
       "      <td>10,001+ employees</td>\n",
       "      <td>3791093</td>\n",
       "      <td>10</td>\n",
       "      <td>Financial Services</td>\n",
       "      <td>Full-time</td>\n",
       "      <td>Mumbai</td>\n",
       "      <td>Maharashtra India</td>\n",
       "      <td>Associate  Global Intelligence Open Source Col...</td>\n",
       "    </tr>\n",
       "    <tr>\n",
       "      <th>2</th>\n",
       "      <td>MTS Software Development Eng</td>\n",
       "      <td>AMD</td>\n",
       "      <td>On-site</td>\n",
       "      <td>10,001+ employees</td>\n",
       "      <td>1068681</td>\n",
       "      <td>41</td>\n",
       "      <td>Semiconductors</td>\n",
       "      <td>Full-time · Mid-Senior level</td>\n",
       "      <td>Bengaluru</td>\n",
       "      <td>Karnataka India</td>\n",
       "      <td>MTS Software Development EngBengaluru</td>\n",
       "    </tr>\n",
       "    <tr>\n",
       "      <th>3</th>\n",
       "      <td>Tech Lead  Wifi Development</td>\n",
       "      <td>VVDN Technologies</td>\n",
       "      <td>On-site</td>\n",
       "      <td>10,001+ employees</td>\n",
       "      <td>62010</td>\n",
       "      <td>13</td>\n",
       "      <td>Information Technology &amp; Services</td>\n",
       "      <td>Full-time · Mid-Senior level</td>\n",
       "      <td>Chennai</td>\n",
       "      <td>Tamil Nadu India</td>\n",
       "      <td>Tech Lead  Wifi DevelopmentChennai</td>\n",
       "    </tr>\n",
       "    <tr>\n",
       "      <th>4</th>\n",
       "      <td>Senior Application Specialist</td>\n",
       "      <td>Leica Biosystems</td>\n",
       "      <td>On-site</td>\n",
       "      <td>1,001-5,000 employees</td>\n",
       "      <td>86924</td>\n",
       "      <td>78</td>\n",
       "      <td>Medical Device</td>\n",
       "      <td>Full-time</td>\n",
       "      <td>Mumbai</td>\n",
       "      <td>Maharashtra India</td>\n",
       "      <td>Senior Application SpecialistMumbai</td>\n",
       "    </tr>\n",
       "    <tr>\n",
       "      <th>...</th>\n",
       "      <td>...</td>\n",
       "      <td>...</td>\n",
       "      <td>...</td>\n",
       "      <td>...</td>\n",
       "      <td>...</td>\n",
       "      <td>...</td>\n",
       "      <td>...</td>\n",
       "      <td>...</td>\n",
       "      <td>...</td>\n",
       "      <td>...</td>\n",
       "      <td>...</td>\n",
       "    </tr>\n",
       "    <tr>\n",
       "      <th>1043</th>\n",
       "      <td>Senior Tableau Developer</td>\n",
       "      <td>Valiantys - Atlassian Platinum Solution Partner</td>\n",
       "      <td>Remote</td>\n",
       "      <td>501-1,000 employees</td>\n",
       "      <td>8449</td>\n",
       "      <td>72</td>\n",
       "      <td>Information Technology &amp; Services</td>\n",
       "      <td>Full-time</td>\n",
       "      <td>Delhi</td>\n",
       "      <td>Delhi India</td>\n",
       "      <td>Senior Tableau DeveloperDelhi</td>\n",
       "    </tr>\n",
       "    <tr>\n",
       "      <th>1044</th>\n",
       "      <td>AM AnalyticsANA007048</td>\n",
       "      <td>Genpact</td>\n",
       "      <td>On-site</td>\n",
       "      <td>10,001+ employees</td>\n",
       "      <td>2639117</td>\n",
       "      <td>58</td>\n",
       "      <td>Information Technology &amp; Services</td>\n",
       "      <td>Full-time · Associate</td>\n",
       "      <td>Bengaluru</td>\n",
       "      <td>Karnataka India</td>\n",
       "      <td>AM AnalyticsANA007048Bengaluru</td>\n",
       "    </tr>\n",
       "    <tr>\n",
       "      <th>1045</th>\n",
       "      <td>Senior Data  API Consultant</td>\n",
       "      <td>Pluralsight</td>\n",
       "      <td>Hybrid</td>\n",
       "      <td>1,001-5,000 employees</td>\n",
       "      <td>175876</td>\n",
       "      <td>3</td>\n",
       "      <td>Computer Software</td>\n",
       "      <td>Full-time · Mid-Senior level</td>\n",
       "      <td>Bengaluru</td>\n",
       "      <td>Karnataka India</td>\n",
       "      <td>Senior Data  API ConsultantBengaluru</td>\n",
       "    </tr>\n",
       "    <tr>\n",
       "      <th>1046</th>\n",
       "      <td>Staff</td>\n",
       "      <td>Bunge</td>\n",
       "      <td>On-site</td>\n",
       "      <td>10,001+ employees</td>\n",
       "      <td>1213984</td>\n",
       "      <td>66</td>\n",
       "      <td>Food Production</td>\n",
       "      <td>Full-time · Associate</td>\n",
       "      <td>Andhra Pradesh</td>\n",
       "      <td>India</td>\n",
       "      <td>StaffAndhra Pradesh</td>\n",
       "    </tr>\n",
       "    <tr>\n",
       "      <th>1047</th>\n",
       "      <td>Team LeadBig Data</td>\n",
       "      <td>Infogain</td>\n",
       "      <td>On-site</td>\n",
       "      <td>5,001-10,000 employees</td>\n",
       "      <td>209419</td>\n",
       "      <td>40</td>\n",
       "      <td>Information Technology &amp; Services</td>\n",
       "      <td>Full-time</td>\n",
       "      <td>Gurugram</td>\n",
       "      <td>Haryana India</td>\n",
       "      <td>Team LeadBig DataGurugram</td>\n",
       "    </tr>\n",
       "  </tbody>\n",
       "</table>\n",
       "<p>1048 rows × 11 columns</p>\n",
       "</div>"
      ],
      "text/plain": [
       "                                               Job_Name  \\\n",
       "0     Client Technology Platform Engineering Senior ...   \n",
       "1     Associate  Global Intelligence Open Source Col...   \n",
       "2                          MTS Software Development Eng   \n",
       "3                           Tech Lead  Wifi Development   \n",
       "4                         Senior Application Specialist   \n",
       "...                                                 ...   \n",
       "1043                           Senior Tableau Developer   \n",
       "1044                              AM AnalyticsANA007048   \n",
       "1045                        Senior Data  API Consultant   \n",
       "1046                                              Staff   \n",
       "1047                                  Team LeadBig Data   \n",
       "\n",
       "                                              Company Job_type  \\\n",
       "0                                                  EY  On-site   \n",
       "1                                JPMorgan Chase & Co.  On-site   \n",
       "2                                                 AMD  On-site   \n",
       "3                                   VVDN Technologies  On-site   \n",
       "4                                    Leica Biosystems  On-site   \n",
       "...                                               ...      ...   \n",
       "1043  Valiantys - Atlassian Platinum Solution Partner   Remote   \n",
       "1044                                          Genpact  On-site   \n",
       "1045                                      Pluralsight   Hybrid   \n",
       "1046                                            Bunge  On-site   \n",
       "1047                                         Infogain  On-site   \n",
       "\n",
       "                   Employees Followers Applicant  \\\n",
       "0          10,001+ employees  7366377         9    \n",
       "1          10,001+ employees  3791093        10    \n",
       "2          10,001+ employees  1068681        41    \n",
       "3          10,001+ employees    62010        13    \n",
       "4      1,001-5,000 employees    86924        78    \n",
       "...                      ...       ...       ...   \n",
       "1043     501-1,000 employees     8449        72    \n",
       "1044       10,001+ employees  2639117        58    \n",
       "1045   1,001-5,000 employees   175876         3    \n",
       "1046       10,001+ employees  1213984        66    \n",
       "1047  5,001-10,000 employees   209419        40    \n",
       "\n",
       "                               Industry                   Invovlement  \\\n",
       "0     Information Technology & Services  Full-time · Mid-Senior level   \n",
       "1                    Financial Services                     Full-time   \n",
       "2                        Semiconductors  Full-time · Mid-Senior level   \n",
       "3     Information Technology & Services  Full-time · Mid-Senior level   \n",
       "4                        Medical Device                     Full-time   \n",
       "...                                 ...                           ...   \n",
       "1043  Information Technology & Services                     Full-time   \n",
       "1044  Information Technology & Services         Full-time · Associate   \n",
       "1045                  Computer Software  Full-time · Mid-Senior level   \n",
       "1046                    Food Production         Full-time · Associate   \n",
       "1047  Information Technology & Services                     Full-time   \n",
       "\n",
       "                City              state  \\\n",
       "0         Trivandrum       Kerala India   \n",
       "1             Mumbai  Maharashtra India   \n",
       "2          Bengaluru    Karnataka India   \n",
       "3            Chennai   Tamil Nadu India   \n",
       "4             Mumbai  Maharashtra India   \n",
       "...              ...                ...   \n",
       "1043           Delhi        Delhi India   \n",
       "1044       Bengaluru    Karnataka India   \n",
       "1045       Bengaluru    Karnataka India   \n",
       "1046  Andhra Pradesh              India   \n",
       "1047        Gurugram      Haryana India   \n",
       "\n",
       "                                            Description  \n",
       "0     Client Technology Platform Engineering Senior ...  \n",
       "1     Associate  Global Intelligence Open Source Col...  \n",
       "2                 MTS Software Development EngBengaluru  \n",
       "3                    Tech Lead  Wifi DevelopmentChennai  \n",
       "4                   Senior Application SpecialistMumbai  \n",
       "...                                                 ...  \n",
       "1043                      Senior Tableau DeveloperDelhi  \n",
       "1044                     AM AnalyticsANA007048Bengaluru  \n",
       "1045               Senior Data  API ConsultantBengaluru  \n",
       "1046                                StaffAndhra Pradesh  \n",
       "1047                          Team LeadBig DataGurugram  \n",
       "\n",
       "[1048 rows x 11 columns]"
      ]
     },
     "execution_count": 177,
     "metadata": {},
     "output_type": "execute_result"
    }
   ],
   "source": [
    "job_data"
   ]
  },
  {
   "cell_type": "code",
   "execution_count": 178,
   "id": "00a868cb",
   "metadata": {
    "ExecuteTime": {
     "end_time": "2023-04-17T04:20:37.804002Z",
     "start_time": "2023-04-17T04:20:37.789028Z"
    }
   },
   "outputs": [],
   "source": [
    "job_data.drop(columns=['Description'],axis=1,inplace=True)"
   ]
  },
  {
   "cell_type": "code",
   "execution_count": 179,
   "id": "0d604e49",
   "metadata": {
    "ExecuteTime": {
     "end_time": "2023-04-17T04:20:37.835068Z",
     "start_time": "2023-04-17T04:20:37.804002Z"
    },
    "scrolled": false
   },
   "outputs": [
    {
     "data": {
      "text/html": [
       "<div>\n",
       "<style scoped>\n",
       "    .dataframe tbody tr th:only-of-type {\n",
       "        vertical-align: middle;\n",
       "    }\n",
       "\n",
       "    .dataframe tbody tr th {\n",
       "        vertical-align: top;\n",
       "    }\n",
       "\n",
       "    .dataframe thead th {\n",
       "        text-align: right;\n",
       "    }\n",
       "</style>\n",
       "<table border=\"1\" class=\"dataframe\">\n",
       "  <thead>\n",
       "    <tr style=\"text-align: right;\">\n",
       "      <th></th>\n",
       "      <th>Job_Name</th>\n",
       "      <th>Company</th>\n",
       "      <th>Job_type</th>\n",
       "      <th>Employees</th>\n",
       "      <th>Followers</th>\n",
       "      <th>Applicant</th>\n",
       "      <th>Industry</th>\n",
       "      <th>Invovlement</th>\n",
       "      <th>City</th>\n",
       "      <th>state</th>\n",
       "    </tr>\n",
       "  </thead>\n",
       "  <tbody>\n",
       "    <tr>\n",
       "      <th>0</th>\n",
       "      <td>Client Technology Platform Engineering Senior ...</td>\n",
       "      <td>EY</td>\n",
       "      <td>On-site</td>\n",
       "      <td>10,001+ employees</td>\n",
       "      <td>7366377</td>\n",
       "      <td>9</td>\n",
       "      <td>Information Technology &amp; Services</td>\n",
       "      <td>Full-time · Mid-Senior level</td>\n",
       "      <td>Trivandrum</td>\n",
       "      <td>Kerala India</td>\n",
       "    </tr>\n",
       "    <tr>\n",
       "      <th>1</th>\n",
       "      <td>Associate  Global Intelligence Open Source Col...</td>\n",
       "      <td>JPMorgan Chase &amp; Co.</td>\n",
       "      <td>On-site</td>\n",
       "      <td>10,001+ employees</td>\n",
       "      <td>3791093</td>\n",
       "      <td>10</td>\n",
       "      <td>Financial Services</td>\n",
       "      <td>Full-time</td>\n",
       "      <td>Mumbai</td>\n",
       "      <td>Maharashtra India</td>\n",
       "    </tr>\n",
       "    <tr>\n",
       "      <th>2</th>\n",
       "      <td>MTS Software Development Eng</td>\n",
       "      <td>AMD</td>\n",
       "      <td>On-site</td>\n",
       "      <td>10,001+ employees</td>\n",
       "      <td>1068681</td>\n",
       "      <td>41</td>\n",
       "      <td>Semiconductors</td>\n",
       "      <td>Full-time · Mid-Senior level</td>\n",
       "      <td>Bengaluru</td>\n",
       "      <td>Karnataka India</td>\n",
       "    </tr>\n",
       "    <tr>\n",
       "      <th>3</th>\n",
       "      <td>Tech Lead  Wifi Development</td>\n",
       "      <td>VVDN Technologies</td>\n",
       "      <td>On-site</td>\n",
       "      <td>10,001+ employees</td>\n",
       "      <td>62010</td>\n",
       "      <td>13</td>\n",
       "      <td>Information Technology &amp; Services</td>\n",
       "      <td>Full-time · Mid-Senior level</td>\n",
       "      <td>Chennai</td>\n",
       "      <td>Tamil Nadu India</td>\n",
       "    </tr>\n",
       "    <tr>\n",
       "      <th>4</th>\n",
       "      <td>Senior Application Specialist</td>\n",
       "      <td>Leica Biosystems</td>\n",
       "      <td>On-site</td>\n",
       "      <td>1,001-5,000 employees</td>\n",
       "      <td>86924</td>\n",
       "      <td>78</td>\n",
       "      <td>Medical Device</td>\n",
       "      <td>Full-time</td>\n",
       "      <td>Mumbai</td>\n",
       "      <td>Maharashtra India</td>\n",
       "    </tr>\n",
       "    <tr>\n",
       "      <th>5</th>\n",
       "      <td>Sales Engineer</td>\n",
       "      <td>Thought Machine</td>\n",
       "      <td>On-site</td>\n",
       "      <td>501-1,000 employees</td>\n",
       "      <td>58555</td>\n",
       "      <td>18</td>\n",
       "      <td>Computer Software</td>\n",
       "      <td>Full-time</td>\n",
       "      <td>Mumbai Metropolitan Region</td>\n",
       "      <td>Karnataka India</td>\n",
       "    </tr>\n",
       "    <tr>\n",
       "      <th>6</th>\n",
       "      <td>Openstack Administrator</td>\n",
       "      <td>TIS Labs Pvt Ltd</td>\n",
       "      <td>On-site</td>\n",
       "      <td>51-200 employees</td>\n",
       "      <td>8801</td>\n",
       "      <td>66</td>\n",
       "      <td>Information Technology &amp; Services</td>\n",
       "      <td>Full-time · Mid-Senior level</td>\n",
       "      <td>Andhra Pradesh</td>\n",
       "      <td>India</td>\n",
       "    </tr>\n",
       "    <tr>\n",
       "      <th>7</th>\n",
       "      <td>TCS Hiring for Network Data  RS Aruba Wireless</td>\n",
       "      <td>Tata Consultancy Services</td>\n",
       "      <td>Hybrid</td>\n",
       "      <td>10,001+ employees</td>\n",
       "      <td>12345310</td>\n",
       "      <td>1 week ago                                  Ov...</td>\n",
       "      <td>Information Technology &amp; Services</td>\n",
       "      <td>Full-time · Associate</td>\n",
       "      <td>New Delhi</td>\n",
       "      <td>Delhi India</td>\n",
       "    </tr>\n",
       "    <tr>\n",
       "      <th>8</th>\n",
       "      <td>Value Stream Leader</td>\n",
       "      <td>GKN Automotive</td>\n",
       "      <td>On-site</td>\n",
       "      <td>10,001+ employees</td>\n",
       "      <td>107995</td>\n",
       "      <td>154</td>\n",
       "      <td>Automotive</td>\n",
       "      <td>Full-time · Mid-Senior level</td>\n",
       "      <td>Sriperumbudur</td>\n",
       "      <td>Tamil Nadu India</td>\n",
       "    </tr>\n",
       "    <tr>\n",
       "      <th>9</th>\n",
       "      <td>DevSecops EngineerApplication Security Engineer</td>\n",
       "      <td>Ingram Micro</td>\n",
       "      <td>Hybrid</td>\n",
       "      <td>10,001+ employees</td>\n",
       "      <td>411809</td>\n",
       "      <td>75</td>\n",
       "      <td>Information Technology &amp; Services</td>\n",
       "      <td>Full-time · Mid-Senior level</td>\n",
       "      <td>Chennai</td>\n",
       "      <td>Tamil Nadu India</td>\n",
       "    </tr>\n",
       "    <tr>\n",
       "      <th>10</th>\n",
       "      <td>Oracle DBA</td>\n",
       "      <td>Tata Consultancy Services</td>\n",
       "      <td>On-site</td>\n",
       "      <td>10,001+ employees</td>\n",
       "      <td>12345309</td>\n",
       "      <td>79</td>\n",
       "      <td>Information Technology &amp; Services</td>\n",
       "      <td>Full-time · Mid-Senior level</td>\n",
       "      <td>Chennai</td>\n",
       "      <td>Tamil Nadu India</td>\n",
       "    </tr>\n",
       "    <tr>\n",
       "      <th>11</th>\n",
       "      <td>SEO Analyst</td>\n",
       "      <td>LIFE AT WOODS</td>\n",
       "      <td>On-site</td>\n",
       "      <td>51-200 employees</td>\n",
       "      <td>791</td>\n",
       "      <td>76</td>\n",
       "      <td>Government Administration</td>\n",
       "      <td>Full-time</td>\n",
       "      <td>Hyderabad</td>\n",
       "      <td>Telangana India</td>\n",
       "    </tr>\n",
       "    <tr>\n",
       "      <th>12</th>\n",
       "      <td>Big Data Developer</td>\n",
       "      <td>Luxoft</td>\n",
       "      <td>Hybrid</td>\n",
       "      <td>10,001+ employees</td>\n",
       "      <td>1069016</td>\n",
       "      <td>12</td>\n",
       "      <td>Information Technology &amp; Services</td>\n",
       "      <td>Full-time · Mid-Senior level</td>\n",
       "      <td>Chennai</td>\n",
       "      <td>Tamil Nadu India</td>\n",
       "    </tr>\n",
       "    <tr>\n",
       "      <th>13</th>\n",
       "      <td>STEM  Robotics Trainer</td>\n",
       "      <td>Eduvacancy</td>\n",
       "      <td>On-site</td>\n",
       "      <td>2-10 employees</td>\n",
       "      <td>47882</td>\n",
       "      <td>1 applicant</td>\n",
       "      <td>Internet</td>\n",
       "      <td>Full-time</td>\n",
       "      <td>Hyderabad</td>\n",
       "      <td>Telangana India</td>\n",
       "    </tr>\n",
       "    <tr>\n",
       "      <th>14</th>\n",
       "      <td>Lead Data Scientist</td>\n",
       "      <td>WUElev8 - Where yoU Elevate</td>\n",
       "      <td>On-site</td>\n",
       "      <td>11-50 employees</td>\n",
       "      <td>19958</td>\n",
       "      <td>2</td>\n",
       "      <td>Computer Software</td>\n",
       "      <td>Full-time</td>\n",
       "      <td>Chennai</td>\n",
       "      <td>Tamil Nadu India</td>\n",
       "    </tr>\n",
       "    <tr>\n",
       "      <th>15</th>\n",
       "      <td>Full Time Instructor  Computer Science</td>\n",
       "      <td>Newton School</td>\n",
       "      <td>On-site</td>\n",
       "      <td>201-500 employees</td>\n",
       "      <td>81310</td>\n",
       "      <td>16</td>\n",
       "      <td>E-learning</td>\n",
       "      <td>Full-time</td>\n",
       "      <td>Bengaluru</td>\n",
       "      <td>Karnataka India</td>\n",
       "    </tr>\n",
       "    <tr>\n",
       "      <th>16</th>\n",
       "      <td>EngageOne Developer</td>\n",
       "      <td>LTIMindtree</td>\n",
       "      <td>On-site</td>\n",
       "      <td>10,001+ employees</td>\n",
       "      <td>390524</td>\n",
       "      <td>21</td>\n",
       "      <td>Information Technology &amp; Services</td>\n",
       "      <td>Full-time · Mid-Senior level</td>\n",
       "      <td>Bengaluru</td>\n",
       "      <td>Karnataka India</td>\n",
       "    </tr>\n",
       "    <tr>\n",
       "      <th>17</th>\n",
       "      <td>SMTS  VMC on AWS</td>\n",
       "      <td>VMware</td>\n",
       "      <td>On-site</td>\n",
       "      <td>10,001+ employees</td>\n",
       "      <td>1863289</td>\n",
       "      <td>19</td>\n",
       "      <td>Computer Software</td>\n",
       "      <td>Full-time</td>\n",
       "      <td>Bengaluru</td>\n",
       "      <td>Karnataka India</td>\n",
       "    </tr>\n",
       "    <tr>\n",
       "      <th>18</th>\n",
       "      <td>IAM Specialist  Identity Services Staff Augmen...</td>\n",
       "      <td>EY</td>\n",
       "      <td>On-site</td>\n",
       "      <td>10,001+ employees</td>\n",
       "      <td>7366382</td>\n",
       "      <td>9</td>\n",
       "      <td>Information Technology &amp; Services</td>\n",
       "      <td>Part-time · Associate</td>\n",
       "      <td>Trivandrum</td>\n",
       "      <td>Kerala India</td>\n",
       "    </tr>\n",
       "    <tr>\n",
       "      <th>19</th>\n",
       "      <td>XSOAR Engineer</td>\n",
       "      <td>CyberProof</td>\n",
       "      <td>Hybrid</td>\n",
       "      <td>501-1,000 employees</td>\n",
       "      <td>15214</td>\n",
       "      <td>54</td>\n",
       "      <td>Computer &amp; Network Security</td>\n",
       "      <td>Full-time · Mid-Senior level</td>\n",
       "      <td>Bengaluru</td>\n",
       "      <td>Karnataka India</td>\n",
       "    </tr>\n",
       "  </tbody>\n",
       "</table>\n",
       "</div>"
      ],
      "text/plain": [
       "                                             Job_Name  \\\n",
       "0   Client Technology Platform Engineering Senior ...   \n",
       "1   Associate  Global Intelligence Open Source Col...   \n",
       "2                        MTS Software Development Eng   \n",
       "3                         Tech Lead  Wifi Development   \n",
       "4                       Senior Application Specialist   \n",
       "5                                      Sales Engineer   \n",
       "6                             Openstack Administrator   \n",
       "7      TCS Hiring for Network Data  RS Aruba Wireless   \n",
       "8                                 Value Stream Leader   \n",
       "9     DevSecops EngineerApplication Security Engineer   \n",
       "10                                         Oracle DBA   \n",
       "11                                        SEO Analyst   \n",
       "12                                 Big Data Developer   \n",
       "13                             STEM  Robotics Trainer   \n",
       "14                                Lead Data Scientist   \n",
       "15             Full Time Instructor  Computer Science   \n",
       "16                                EngageOne Developer   \n",
       "17                                   SMTS  VMC on AWS   \n",
       "18  IAM Specialist  Identity Services Staff Augmen...   \n",
       "19                                     XSOAR Engineer   \n",
       "\n",
       "                        Company Job_type              Employees  Followers  \\\n",
       "0                            EY  On-site      10,001+ employees   7366377    \n",
       "1          JPMorgan Chase & Co.  On-site      10,001+ employees   3791093    \n",
       "2                           AMD  On-site      10,001+ employees   1068681    \n",
       "3             VVDN Technologies  On-site      10,001+ employees     62010    \n",
       "4              Leica Biosystems  On-site  1,001-5,000 employees     86924    \n",
       "5               Thought Machine  On-site    501-1,000 employees     58555    \n",
       "6              TIS Labs Pvt Ltd  On-site       51-200 employees      8801    \n",
       "7     Tata Consultancy Services   Hybrid      10,001+ employees  12345310    \n",
       "8                GKN Automotive  On-site      10,001+ employees    107995    \n",
       "9                  Ingram Micro   Hybrid      10,001+ employees    411809    \n",
       "10    Tata Consultancy Services  On-site      10,001+ employees  12345309    \n",
       "11                LIFE AT WOODS  On-site       51-200 employees       791    \n",
       "12                       Luxoft   Hybrid      10,001+ employees   1069016    \n",
       "13                   Eduvacancy  On-site         2-10 employees     47882    \n",
       "14  WUElev8 - Where yoU Elevate  On-site        11-50 employees     19958    \n",
       "15                Newton School  On-site      201-500 employees     81310    \n",
       "16                  LTIMindtree  On-site      10,001+ employees    390524    \n",
       "17                       VMware  On-site      10,001+ employees   1863289    \n",
       "18                           EY  On-site      10,001+ employees   7366382    \n",
       "19                   CyberProof   Hybrid    501-1,000 employees     15214    \n",
       "\n",
       "                                            Applicant  \\\n",
       "0                                                  9    \n",
       "1                                                 10    \n",
       "2                                                 41    \n",
       "3                                                 13    \n",
       "4                                                 78    \n",
       "5                                                 18    \n",
       "6                                                 66    \n",
       "7   1 week ago                                  Ov...   \n",
       "8                                                154    \n",
       "9                                                 75    \n",
       "10                                                79    \n",
       "11                                                76    \n",
       "12                                                12    \n",
       "13                                        1 applicant   \n",
       "14                                                 2    \n",
       "15                                                16    \n",
       "16                                                21    \n",
       "17                                                19    \n",
       "18                                                 9    \n",
       "19                                                54    \n",
       "\n",
       "                             Industry                   Invovlement  \\\n",
       "0   Information Technology & Services  Full-time · Mid-Senior level   \n",
       "1                  Financial Services                     Full-time   \n",
       "2                      Semiconductors  Full-time · Mid-Senior level   \n",
       "3   Information Technology & Services  Full-time · Mid-Senior level   \n",
       "4                      Medical Device                     Full-time   \n",
       "5                   Computer Software                     Full-time   \n",
       "6   Information Technology & Services  Full-time · Mid-Senior level   \n",
       "7   Information Technology & Services         Full-time · Associate   \n",
       "8                          Automotive  Full-time · Mid-Senior level   \n",
       "9   Information Technology & Services  Full-time · Mid-Senior level   \n",
       "10  Information Technology & Services  Full-time · Mid-Senior level   \n",
       "11          Government Administration                     Full-time   \n",
       "12  Information Technology & Services  Full-time · Mid-Senior level   \n",
       "13                           Internet                     Full-time   \n",
       "14                  Computer Software                     Full-time   \n",
       "15                         E-learning                     Full-time   \n",
       "16  Information Technology & Services  Full-time · Mid-Senior level   \n",
       "17                  Computer Software                     Full-time   \n",
       "18  Information Technology & Services         Part-time · Associate   \n",
       "19        Computer & Network Security  Full-time · Mid-Senior level   \n",
       "\n",
       "                          City              state  \n",
       "0                   Trivandrum       Kerala India  \n",
       "1                       Mumbai  Maharashtra India  \n",
       "2                    Bengaluru    Karnataka India  \n",
       "3                      Chennai   Tamil Nadu India  \n",
       "4                       Mumbai  Maharashtra India  \n",
       "5   Mumbai Metropolitan Region    Karnataka India  \n",
       "6               Andhra Pradesh              India  \n",
       "7                    New Delhi        Delhi India  \n",
       "8                Sriperumbudur   Tamil Nadu India  \n",
       "9                      Chennai   Tamil Nadu India  \n",
       "10                     Chennai   Tamil Nadu India  \n",
       "11                   Hyderabad    Telangana India  \n",
       "12                     Chennai   Tamil Nadu India  \n",
       "13                   Hyderabad    Telangana India  \n",
       "14                     Chennai   Tamil Nadu India  \n",
       "15                   Bengaluru    Karnataka India  \n",
       "16                   Bengaluru    Karnataka India  \n",
       "17                   Bengaluru    Karnataka India  \n",
       "18                  Trivandrum       Kerala India  \n",
       "19                   Bengaluru    Karnataka India  "
      ]
     },
     "execution_count": 179,
     "metadata": {},
     "output_type": "execute_result"
    }
   ],
   "source": [
    "job_data.head(20)  "
   ]
  },
  {
   "cell_type": "code",
   "execution_count": 180,
   "id": "3d448f99",
   "metadata": {
    "ExecuteTime": {
     "end_time": "2023-04-17T04:20:37.869623Z",
     "start_time": "2023-04-17T04:20:37.837068Z"
    }
   },
   "outputs": [],
   "source": [
    "# Create a TfidfVectorizer object to convert the job name and city into vectors\n",
    "tfidf = TfidfVectorizer(stop_words='english')\n",
    "\n",
    "# Create a matrix of job name and city vectors\n",
    "job_city_matrix = tfidf.fit_transform(job_data['Job_Name'] + ' ' +job_data['City'])\n",
    "\n",
    "# Compute the cosine similarity of job name and city vectors\n",
    "cosine_sim = cosine_similarity(job_city_matrix, job_city_matrix)\n",
    "\n",
    "# Define a function to get the top 5 similar job names based on the given city\n",
    "def get_top_similar_jobs(city_name):\n",
    "    # Get the indices of jobs matching the given city\n",
    "    city_indices = job_data.index[job_data['City'] == city_name].tolist()\n",
    "    \n",
    "    # Get the cosine similarity scores between the given city and all other cities\n",
    "    city_sim_scores = cosine_sim[city_indices].mean(axis=0)\n",
    "    \n",
    "    # Get the indices of the top 5 jobs with the highest similarity scores\n",
    "    top_job_indices = city_sim_scores.argsort()[::-1][:5]\n",
    "    \n",
    "    # Get the job names and corresponding similarity scores\n",
    "    top_jobs = [(idx, city_sim_scores[idx]) for idx in top_job_indices]\n",
    "    \n",
    "    # Create a list of top similar jobs\n",
    "    top_jobs = [(job_data.loc[idx, 'Job_Name'], job_data.loc[idx, 'Company'], job_data.loc[idx, 'Followers'], score) for idx, score in top_jobs]\n",
    "    \n",
    "    # Create a pandas dataframe from the list of top similar jobs\n",
    "    df = pd.DataFrame(top_jobs, columns=['Job_Name', 'Company', 'Followers', 'Similarity_Score'])\n",
    "    \n",
    "    # Return the top 5 similar jobs for the given city\n",
    "    return df.head(5)"
   ]
  },
  {
   "cell_type": "code",
   "execution_count": 181,
   "id": "4365fa77",
   "metadata": {
    "ExecuteTime": {
     "end_time": "2023-04-17T04:20:37.885019Z",
     "start_time": "2023-04-17T04:20:37.871619Z"
    }
   },
   "outputs": [
    {
     "data": {
      "text/html": [
       "<div>\n",
       "<style scoped>\n",
       "    .dataframe tbody tr th:only-of-type {\n",
       "        vertical-align: middle;\n",
       "    }\n",
       "\n",
       "    .dataframe tbody tr th {\n",
       "        vertical-align: top;\n",
       "    }\n",
       "\n",
       "    .dataframe thead th {\n",
       "        text-align: right;\n",
       "    }\n",
       "</style>\n",
       "<table border=\"1\" class=\"dataframe\">\n",
       "  <thead>\n",
       "    <tr style=\"text-align: right;\">\n",
       "      <th></th>\n",
       "      <th>Job_Name</th>\n",
       "      <th>Company</th>\n",
       "      <th>Followers</th>\n",
       "      <th>Similarity_Score</th>\n",
       "    </tr>\n",
       "  </thead>\n",
       "  <tbody>\n",
       "    <tr>\n",
       "      <th>0</th>\n",
       "      <td>Power BI</td>\n",
       "      <td>Diverse Lynx</td>\n",
       "      <td>73255</td>\n",
       "      <td>0.357628</td>\n",
       "    </tr>\n",
       "    <tr>\n",
       "      <th>1</th>\n",
       "      <td>Power BI Consultant 1 1</td>\n",
       "      <td>Worldline</td>\n",
       "      <td>191666</td>\n",
       "      <td>0.343013</td>\n",
       "    </tr>\n",
       "    <tr>\n",
       "      <th>2</th>\n",
       "      <td>Lead Software Engineer</td>\n",
       "      <td>Biz2Credit</td>\n",
       "      <td>35952</td>\n",
       "      <td>0.331429</td>\n",
       "    </tr>\n",
       "    <tr>\n",
       "      <th>3</th>\n",
       "      <td>Dotnet Developer</td>\n",
       "      <td>Tata Consultancy Services</td>\n",
       "      <td>12345472</td>\n",
       "      <td>0.307993</td>\n",
       "    </tr>\n",
       "    <tr>\n",
       "      <th>4</th>\n",
       "      <td>Senior Tableau Developer</td>\n",
       "      <td>Valiantys - Atlassian Platinum Solution Partner</td>\n",
       "      <td>8449</td>\n",
       "      <td>0.304485</td>\n",
       "    </tr>\n",
       "  </tbody>\n",
       "</table>\n",
       "</div>"
      ],
      "text/plain": [
       "                   Job_Name                                          Company  \\\n",
       "0                  Power BI                                     Diverse Lynx   \n",
       "1   Power BI Consultant 1 1                                        Worldline   \n",
       "2    Lead Software Engineer                                       Biz2Credit   \n",
       "3          Dotnet Developer                        Tata Consultancy Services   \n",
       "4  Senior Tableau Developer  Valiantys - Atlassian Platinum Solution Partner   \n",
       "\n",
       "   Followers  Similarity_Score  \n",
       "0     73255           0.357628  \n",
       "1    191666           0.343013  \n",
       "2     35952           0.331429  \n",
       "3  12345472           0.307993  \n",
       "4      8449           0.304485  "
      ]
     },
     "metadata": {},
     "output_type": "display_data"
    }
   ],
   "source": [
    "city_name = 'Delhi'\n",
    "top_jobs = get_top_similar_jobs(city_name)\n",
    "display(top_jobs)"
   ]
  },
  {
   "cell_type": "code",
   "execution_count": 182,
   "id": "af1dad35",
   "metadata": {
    "ExecuteTime": {
     "end_time": "2023-04-17T04:20:37.903578Z",
     "start_time": "2023-04-17T04:20:37.887101Z"
    }
   },
   "outputs": [
    {
     "data": {
      "text/html": [
       "<div>\n",
       "<style scoped>\n",
       "    .dataframe tbody tr th:only-of-type {\n",
       "        vertical-align: middle;\n",
       "    }\n",
       "\n",
       "    .dataframe tbody tr th {\n",
       "        vertical-align: top;\n",
       "    }\n",
       "\n",
       "    .dataframe thead th {\n",
       "        text-align: right;\n",
       "    }\n",
       "</style>\n",
       "<table border=\"1\" class=\"dataframe\">\n",
       "  <thead>\n",
       "    <tr style=\"text-align: right;\">\n",
       "      <th></th>\n",
       "      <th>Job_Name</th>\n",
       "      <th>Company</th>\n",
       "      <th>Followers</th>\n",
       "      <th>Similarity_Score</th>\n",
       "    </tr>\n",
       "  </thead>\n",
       "  <tbody>\n",
       "    <tr>\n",
       "      <th>0</th>\n",
       "      <td>Data Analyst 3</td>\n",
       "      <td>Zynga</td>\n",
       "      <td>212344</td>\n",
       "      <td>0.272426</td>\n",
       "    </tr>\n",
       "    <tr>\n",
       "      <th>1</th>\n",
       "      <td>Data Analyst</td>\n",
       "      <td>Mantys (YC W23)</td>\n",
       "      <td>1215</td>\n",
       "      <td>0.272426</td>\n",
       "    </tr>\n",
       "    <tr>\n",
       "      <th>2</th>\n",
       "      <td>Data Analyst</td>\n",
       "      <td>Acme Services</td>\n",
       "      <td>162620</td>\n",
       "      <td>0.272426</td>\n",
       "    </tr>\n",
       "    <tr>\n",
       "      <th>3</th>\n",
       "      <td>Data Analyst</td>\n",
       "      <td>IKEA</td>\n",
       "      <td>2652482</td>\n",
       "      <td>0.272426</td>\n",
       "    </tr>\n",
       "    <tr>\n",
       "      <th>4</th>\n",
       "      <td>Data Analyst</td>\n",
       "      <td>Falcon Smart IT (FalconSmartIT)</td>\n",
       "      <td>55048</td>\n",
       "      <td>0.272426</td>\n",
       "    </tr>\n",
       "  </tbody>\n",
       "</table>\n",
       "</div>"
      ],
      "text/plain": [
       "         Job_Name                          Company Followers  Similarity_Score\n",
       "0  Data Analyst 3                            Zynga   212344           0.272426\n",
       "1    Data Analyst                  Mantys (YC W23)     1215           0.272426\n",
       "2    Data Analyst                    Acme Services   162620           0.272426\n",
       "3    Data Analyst                             IKEA  2652482           0.272426\n",
       "4    Data Analyst  Falcon Smart IT (FalconSmartIT)    55048           0.272426"
      ]
     },
     "metadata": {},
     "output_type": "display_data"
    }
   ],
   "source": [
    "city_name = 'Bengaluru'\n",
    "top_jobs = get_top_similar_jobs(city_name)\n",
    "display(top_jobs)"
   ]
  },
  {
   "cell_type": "code",
   "execution_count": 183,
   "id": "1ecf1bba",
   "metadata": {
    "ExecuteTime": {
     "end_time": "2023-04-17T04:20:37.919266Z",
     "start_time": "2023-04-17T04:20:37.905535Z"
    }
   },
   "outputs": [
    {
     "data": {
      "text/html": [
       "<div>\n",
       "<style scoped>\n",
       "    .dataframe tbody tr th:only-of-type {\n",
       "        vertical-align: middle;\n",
       "    }\n",
       "\n",
       "    .dataframe tbody tr th {\n",
       "        vertical-align: top;\n",
       "    }\n",
       "\n",
       "    .dataframe thead th {\n",
       "        text-align: right;\n",
       "    }\n",
       "</style>\n",
       "<table border=\"1\" class=\"dataframe\">\n",
       "  <thead>\n",
       "    <tr style=\"text-align: right;\">\n",
       "      <th></th>\n",
       "      <th>Job_Name</th>\n",
       "      <th>Company</th>\n",
       "      <th>Followers</th>\n",
       "      <th>Similarity_Score</th>\n",
       "    </tr>\n",
       "  </thead>\n",
       "  <tbody>\n",
       "    <tr>\n",
       "      <th>0</th>\n",
       "      <td>Data Analyst</td>\n",
       "      <td>Right Advisors Private Limited</td>\n",
       "      <td>21081</td>\n",
       "      <td>0.378797</td>\n",
       "    </tr>\n",
       "    <tr>\n",
       "      <th>1</th>\n",
       "      <td>Data Analyst</td>\n",
       "      <td>Ampstek</td>\n",
       "      <td>203075</td>\n",
       "      <td>0.378797</td>\n",
       "    </tr>\n",
       "    <tr>\n",
       "      <th>2</th>\n",
       "      <td>Data Analyst</td>\n",
       "      <td>NxtWave</td>\n",
       "      <td>114267</td>\n",
       "      <td>0.378797</td>\n",
       "    </tr>\n",
       "    <tr>\n",
       "      <th>3</th>\n",
       "      <td>Data Analyst</td>\n",
       "      <td>Keyloop</td>\n",
       "      <td>58990</td>\n",
       "      <td>0.378797</td>\n",
       "    </tr>\n",
       "    <tr>\n",
       "      <th>4</th>\n",
       "      <td>Data Analyst</td>\n",
       "      <td>Dun &amp; Bradstreet Technology and Corporate Serv...</td>\n",
       "      <td>9044</td>\n",
       "      <td>0.378797</td>\n",
       "    </tr>\n",
       "  </tbody>\n",
       "</table>\n",
       "</div>"
      ],
      "text/plain": [
       "       Job_Name                                            Company Followers  \\\n",
       "0  Data Analyst                     Right Advisors Private Limited    21081    \n",
       "1  Data Analyst                                            Ampstek   203075    \n",
       "2  Data Analyst                                            NxtWave   114267    \n",
       "3  Data Analyst                                            Keyloop    58990    \n",
       "4  Data Analyst  Dun & Bradstreet Technology and Corporate Serv...     9044    \n",
       "\n",
       "   Similarity_Score  \n",
       "0          0.378797  \n",
       "1          0.378797  \n",
       "2          0.378797  \n",
       "3          0.378797  \n",
       "4          0.378797  "
      ]
     },
     "metadata": {},
     "output_type": "display_data"
    }
   ],
   "source": [
    "city_name = 'Hyderabad'\n",
    "top_jobs = get_top_similar_jobs(city_name)\n",
    "display(top_jobs)"
   ]
  },
  {
   "cell_type": "code",
   "execution_count": 184,
   "id": "c410cbfa",
   "metadata": {
    "ExecuteTime": {
     "end_time": "2023-04-17T04:20:37.936878Z",
     "start_time": "2023-04-17T04:20:37.921254Z"
    }
   },
   "outputs": [
    {
     "data": {
      "text/html": [
       "<div>\n",
       "<style scoped>\n",
       "    .dataframe tbody tr th:only-of-type {\n",
       "        vertical-align: middle;\n",
       "    }\n",
       "\n",
       "    .dataframe tbody tr th {\n",
       "        vertical-align: top;\n",
       "    }\n",
       "\n",
       "    .dataframe thead th {\n",
       "        text-align: right;\n",
       "    }\n",
       "</style>\n",
       "<table border=\"1\" class=\"dataframe\">\n",
       "  <thead>\n",
       "    <tr style=\"text-align: right;\">\n",
       "      <th></th>\n",
       "      <th>Job_Name</th>\n",
       "      <th>Company</th>\n",
       "      <th>Followers</th>\n",
       "      <th>Similarity_Score</th>\n",
       "    </tr>\n",
       "  </thead>\n",
       "  <tbody>\n",
       "    <tr>\n",
       "      <th>0</th>\n",
       "      <td>Data Analyst</td>\n",
       "      <td>Acme Services</td>\n",
       "      <td>162594</td>\n",
       "      <td>0.331373</td>\n",
       "    </tr>\n",
       "    <tr>\n",
       "      <th>1</th>\n",
       "      <td>Data Analyst</td>\n",
       "      <td>Acme Services</td>\n",
       "      <td>162618</td>\n",
       "      <td>0.331373</td>\n",
       "    </tr>\n",
       "    <tr>\n",
       "      <th>2</th>\n",
       "      <td>Data Analyst</td>\n",
       "      <td>Acme Services</td>\n",
       "      <td>162453</td>\n",
       "      <td>0.331373</td>\n",
       "    </tr>\n",
       "    <tr>\n",
       "      <th>3</th>\n",
       "      <td>Data Analyst</td>\n",
       "      <td>Acme Services</td>\n",
       "      <td>162469</td>\n",
       "      <td>0.331373</td>\n",
       "    </tr>\n",
       "    <tr>\n",
       "      <th>4</th>\n",
       "      <td>Data Analyst</td>\n",
       "      <td>Etraveli Group</td>\n",
       "      <td>57196</td>\n",
       "      <td>0.331373</td>\n",
       "    </tr>\n",
       "  </tbody>\n",
       "</table>\n",
       "</div>"
      ],
      "text/plain": [
       "       Job_Name         Company Followers  Similarity_Score\n",
       "0  Data Analyst   Acme Services   162594           0.331373\n",
       "1  Data Analyst   Acme Services   162618           0.331373\n",
       "2  Data Analyst   Acme Services   162453           0.331373\n",
       "3  Data Analyst   Acme Services   162469           0.331373\n",
       "4  Data Analyst  Etraveli Group    57196           0.331373"
      ]
     },
     "metadata": {},
     "output_type": "display_data"
    }
   ],
   "source": [
    "city_name = 'Mumbai'\n",
    "top_jobs = get_top_similar_jobs(city_name)\n",
    "display(top_jobs)"
   ]
  },
  {
   "cell_type": "code",
   "execution_count": 185,
   "id": "ba5a0320",
   "metadata": {
    "ExecuteTime": {
     "end_time": "2023-04-17T04:20:37.955783Z",
     "start_time": "2023-04-17T04:20:37.937965Z"
    }
   },
   "outputs": [
    {
     "data": {
      "text/html": [
       "<div>\n",
       "<style scoped>\n",
       "    .dataframe tbody tr th:only-of-type {\n",
       "        vertical-align: middle;\n",
       "    }\n",
       "\n",
       "    .dataframe tbody tr th {\n",
       "        vertical-align: top;\n",
       "    }\n",
       "\n",
       "    .dataframe thead th {\n",
       "        text-align: right;\n",
       "    }\n",
       "</style>\n",
       "<table border=\"1\" class=\"dataframe\">\n",
       "  <thead>\n",
       "    <tr style=\"text-align: right;\">\n",
       "      <th></th>\n",
       "      <th>Job_Name</th>\n",
       "      <th>Company</th>\n",
       "      <th>Followers</th>\n",
       "      <th>Similarity_Score</th>\n",
       "    </tr>\n",
       "  </thead>\n",
       "  <tbody>\n",
       "    <tr>\n",
       "      <th>0</th>\n",
       "      <td>Data Analyst</td>\n",
       "      <td>Spendflo</td>\n",
       "      <td>7423</td>\n",
       "      <td>0.452379</td>\n",
       "    </tr>\n",
       "    <tr>\n",
       "      <th>1</th>\n",
       "      <td>Data Analyst</td>\n",
       "      <td>Yo Hr Consultancy</td>\n",
       "      <td>3867</td>\n",
       "      <td>0.452379</td>\n",
       "    </tr>\n",
       "    <tr>\n",
       "      <th>2</th>\n",
       "      <td>Data Analyst</td>\n",
       "      <td>Right Advisors Private Limited</td>\n",
       "      <td>21074</td>\n",
       "      <td>0.452379</td>\n",
       "    </tr>\n",
       "    <tr>\n",
       "      <th>3</th>\n",
       "      <td>Data Analyst</td>\n",
       "      <td>Saaki, Argus and Averil Consulting</td>\n",
       "      <td>3911</td>\n",
       "      <td>0.452379</td>\n",
       "    </tr>\n",
       "    <tr>\n",
       "      <th>4</th>\n",
       "      <td>Senior Data Analyst</td>\n",
       "      <td>Mobile Programming LLC</td>\n",
       "      <td>296987</td>\n",
       "      <td>0.429595</td>\n",
       "    </tr>\n",
       "  </tbody>\n",
       "</table>\n",
       "</div>"
      ],
      "text/plain": [
       "              Job_Name                             Company Followers  \\\n",
       "0         Data Analyst                            Spendflo     7423    \n",
       "1         Data Analyst                   Yo Hr Consultancy     3867    \n",
       "2         Data Analyst      Right Advisors Private Limited    21074    \n",
       "3         Data Analyst  Saaki, Argus and Averil Consulting     3911    \n",
       "4  Senior Data Analyst              Mobile Programming LLC   296987    \n",
       "\n",
       "   Similarity_Score  \n",
       "0          0.452379  \n",
       "1          0.452379  \n",
       "2          0.452379  \n",
       "3          0.452379  \n",
       "4          0.429595  "
      ]
     },
     "metadata": {},
     "output_type": "display_data"
    }
   ],
   "source": [
    "city_name = 'Chennai'\n",
    "top_jobs = get_top_similar_jobs(city_name)\n",
    "display(top_jobs)"
   ]
  },
  {
   "cell_type": "code",
   "execution_count": 186,
   "id": "21f48e65",
   "metadata": {
    "ExecuteTime": {
     "end_time": "2023-04-17T04:20:37.971246Z",
     "start_time": "2023-04-17T04:20:37.955783Z"
    }
   },
   "outputs": [
    {
     "data": {
      "text/html": [
       "<div>\n",
       "<style scoped>\n",
       "    .dataframe tbody tr th:only-of-type {\n",
       "        vertical-align: middle;\n",
       "    }\n",
       "\n",
       "    .dataframe tbody tr th {\n",
       "        vertical-align: top;\n",
       "    }\n",
       "\n",
       "    .dataframe thead th {\n",
       "        text-align: right;\n",
       "    }\n",
       "</style>\n",
       "<table border=\"1\" class=\"dataframe\">\n",
       "  <thead>\n",
       "    <tr style=\"text-align: right;\">\n",
       "      <th></th>\n",
       "      <th>Job_Name</th>\n",
       "      <th>Company</th>\n",
       "      <th>Followers</th>\n",
       "      <th>Similarity_Score</th>\n",
       "    </tr>\n",
       "  </thead>\n",
       "  <tbody>\n",
       "    <tr>\n",
       "      <th>0</th>\n",
       "      <td>Data Analyst</td>\n",
       "      <td>Kia India</td>\n",
       "      <td>326231</td>\n",
       "      <td>0.494130</td>\n",
       "    </tr>\n",
       "    <tr>\n",
       "      <th>1</th>\n",
       "      <td>Lead Data Analyst</td>\n",
       "      <td>The Economist</td>\n",
       "      <td>13163852</td>\n",
       "      <td>0.443492</td>\n",
       "    </tr>\n",
       "    <tr>\n",
       "      <th>2</th>\n",
       "      <td>Senior Technical Architect</td>\n",
       "      <td>Yabx</td>\n",
       "      <td>10563</td>\n",
       "      <td>0.387856</td>\n",
       "    </tr>\n",
       "    <tr>\n",
       "      <th>3</th>\n",
       "      <td>Senior Technical Architect</td>\n",
       "      <td>Builder.ai</td>\n",
       "      <td>152281</td>\n",
       "      <td>0.387856</td>\n",
       "    </tr>\n",
       "    <tr>\n",
       "      <th>4</th>\n",
       "      <td>Senior Consultant  Data AnalyticsCPG038927</td>\n",
       "      <td>Genpact</td>\n",
       "      <td>2639232</td>\n",
       "      <td>0.375857</td>\n",
       "    </tr>\n",
       "  </tbody>\n",
       "</table>\n",
       "</div>"
      ],
      "text/plain": [
       "                                     Job_Name        Company  Followers  \\\n",
       "0                                Data Analyst      Kia India    326231    \n",
       "1                           Lead Data Analyst  The Economist  13163852    \n",
       "2                  Senior Technical Architect           Yabx     10563    \n",
       "3                  Senior Technical Architect     Builder.ai    152281    \n",
       "4  Senior Consultant  Data AnalyticsCPG038927        Genpact   2639232    \n",
       "\n",
       "   Similarity_Score  \n",
       "0          0.494130  \n",
       "1          0.443492  \n",
       "2          0.387856  \n",
       "3          0.387856  \n",
       "4          0.375857  "
      ]
     },
     "metadata": {},
     "output_type": "display_data"
    }
   ],
   "source": [
    "city_name = 'Gurugram'\n",
    "top_jobs = get_top_similar_jobs(city_name)\n",
    "display(top_jobs)"
   ]
  },
  {
   "cell_type": "code",
   "execution_count": null,
   "id": "0a6ca53c",
   "metadata": {},
   "outputs": [],
   "source": []
  }
 ],
 "metadata": {
  "kernelspec": {
   "display_name": "Python 3 (ipykernel)",
   "language": "python",
   "name": "python3"
  },
  "language_info": {
   "codemirror_mode": {
    "name": "ipython",
    "version": 3
   },
   "file_extension": ".py",
   "mimetype": "text/x-python",
   "name": "python",
   "nbconvert_exporter": "python",
   "pygments_lexer": "ipython3",
   "version": "3.9.12"
  }
 },
 "nbformat": 4,
 "nbformat_minor": 5
}
